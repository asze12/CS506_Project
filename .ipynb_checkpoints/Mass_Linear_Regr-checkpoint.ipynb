{
 "cells": [
  {
   "cell_type": "code",
   "execution_count": 1,
   "metadata": {},
   "outputs": [],
   "source": [
    "import tensorflow as tf\n",
    "import numpy as np\n",
    "import pandas as pd"
   ]
  },
  {
   "cell_type": "code",
   "execution_count": 3,
   "metadata": {},
   "outputs": [],
   "source": [
    "mass_dta = pd.read_pickle('Massachusetts.pkl')"
   ]
  },
  {
   "cell_type": "code",
   "execution_count": 4,
   "metadata": {},
   "outputs": [
    {
     "data": {
      "text/html": [
       "<div>\n",
       "<style scoped>\n",
       "    .dataframe tbody tr th:only-of-type {\n",
       "        vertical-align: middle;\n",
       "    }\n",
       "\n",
       "    .dataframe tbody tr th {\n",
       "        vertical-align: top;\n",
       "    }\n",
       "\n",
       "    .dataframe thead th {\n",
       "        text-align: right;\n",
       "    }\n",
       "</style>\n",
       "<table border=\"1\" class=\"dataframe\">\n",
       "  <thead>\n",
       "    <tr style=\"text-align: right;\">\n",
       "      <th></th>\n",
       "      <th>State</th>\n",
       "      <th>Station Name (LEA)</th>\n",
       "      <th>NSN</th>\n",
       "      <th>Item Name</th>\n",
       "      <th>Quantity</th>\n",
       "      <th>UI</th>\n",
       "      <th>Acquisition Value</th>\n",
       "      <th>DEMIL Code</th>\n",
       "      <th>DEMIL IC</th>\n",
       "      <th>Ship Date</th>\n",
       "    </tr>\n",
       "  </thead>\n",
       "  <tbody>\n",
       "    <tr>\n",
       "      <th>0</th>\n",
       "      <td>MA</td>\n",
       "      <td>ACTON POLICE DEPT</td>\n",
       "      <td>1005-00-589-1271</td>\n",
       "      <td>RIFLE,7.62 MILLIMETER</td>\n",
       "      <td>1</td>\n",
       "      <td>Each</td>\n",
       "      <td>138.0</td>\n",
       "      <td>D</td>\n",
       "      <td>1.0</td>\n",
       "      <td>2000-09-06</td>\n",
       "    </tr>\n",
       "    <tr>\n",
       "      <th>1</th>\n",
       "      <td>MA</td>\n",
       "      <td>ACTON POLICE DEPT</td>\n",
       "      <td>1005-00-589-1271</td>\n",
       "      <td>RIFLE,7.62 MILLIMETER</td>\n",
       "      <td>1</td>\n",
       "      <td>Each</td>\n",
       "      <td>138.0</td>\n",
       "      <td>D</td>\n",
       "      <td>1.0</td>\n",
       "      <td>2000-09-06</td>\n",
       "    </tr>\n",
       "    <tr>\n",
       "      <th>2</th>\n",
       "      <td>MA</td>\n",
       "      <td>ACTON POLICE DEPT</td>\n",
       "      <td>1005-00-589-1271</td>\n",
       "      <td>RIFLE,7.62 MILLIMETER</td>\n",
       "      <td>1</td>\n",
       "      <td>Each</td>\n",
       "      <td>138.0</td>\n",
       "      <td>D</td>\n",
       "      <td>1.0</td>\n",
       "      <td>2000-09-06</td>\n",
       "    </tr>\n",
       "    <tr>\n",
       "      <th>3</th>\n",
       "      <td>MA</td>\n",
       "      <td>ACTON POLICE DEPT</td>\n",
       "      <td>1005-00-589-1271</td>\n",
       "      <td>RIFLE,7.62 MILLIMETER</td>\n",
       "      <td>1</td>\n",
       "      <td>Each</td>\n",
       "      <td>138.0</td>\n",
       "      <td>D</td>\n",
       "      <td>1.0</td>\n",
       "      <td>2000-09-06</td>\n",
       "    </tr>\n",
       "    <tr>\n",
       "      <th>4</th>\n",
       "      <td>MA</td>\n",
       "      <td>ACTON POLICE DEPT</td>\n",
       "      <td>1005-00-589-1271</td>\n",
       "      <td>RIFLE,7.62 MILLIMETER</td>\n",
       "      <td>1</td>\n",
       "      <td>Each</td>\n",
       "      <td>138.0</td>\n",
       "      <td>D</td>\n",
       "      <td>1.0</td>\n",
       "      <td>2000-09-06</td>\n",
       "    </tr>\n",
       "  </tbody>\n",
       "</table>\n",
       "</div>"
      ],
      "text/plain": [
       "  State Station Name (LEA)               NSN              Item Name  Quantity  \\\n",
       "0    MA  ACTON POLICE DEPT  1005-00-589-1271  RIFLE,7.62 MILLIMETER         1   \n",
       "1    MA  ACTON POLICE DEPT  1005-00-589-1271  RIFLE,7.62 MILLIMETER         1   \n",
       "2    MA  ACTON POLICE DEPT  1005-00-589-1271  RIFLE,7.62 MILLIMETER         1   \n",
       "3    MA  ACTON POLICE DEPT  1005-00-589-1271  RIFLE,7.62 MILLIMETER         1   \n",
       "4    MA  ACTON POLICE DEPT  1005-00-589-1271  RIFLE,7.62 MILLIMETER         1   \n",
       "\n",
       "     UI  Acquisition Value DEMIL Code  DEMIL IC  Ship Date  \n",
       "0  Each              138.0          D       1.0 2000-09-06  \n",
       "1  Each              138.0          D       1.0 2000-09-06  \n",
       "2  Each              138.0          D       1.0 2000-09-06  \n",
       "3  Each              138.0          D       1.0 2000-09-06  \n",
       "4  Each              138.0          D       1.0 2000-09-06  "
      ]
     },
     "execution_count": 4,
     "metadata": {},
     "output_type": "execute_result"
    }
   ],
   "source": [
    "mass_dta.head()"
   ]
  },
  {
   "cell_type": "code",
   "execution_count": 5,
   "metadata": {},
   "outputs": [],
   "source": [
    "mass_dep_gb = mass_dta.groupby('Station Name (LEA)')"
   ]
  },
  {
   "cell_type": "code",
   "execution_count": null,
   "metadata": {},
   "outputs": [],
   "source": [
    "for dept, acq_data in "
   ]
  }
 ],
 "metadata": {
  "kernelspec": {
   "display_name": "Python 3",
   "language": "python",
   "name": "python3"
  },
  "language_info": {
   "codemirror_mode": {
    "name": "ipython",
    "version": 3
   },
   "file_extension": ".py",
   "mimetype": "text/x-python",
   "name": "python",
   "nbconvert_exporter": "python",
   "pygments_lexer": "ipython3",
   "version": "3.6.4"
  }
 },
 "nbformat": 4,
 "nbformat_minor": 2
}
