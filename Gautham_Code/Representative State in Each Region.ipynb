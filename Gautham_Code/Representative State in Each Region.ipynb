{
 "cells": [
  {
   "cell_type": "code",
   "execution_count": 2,
   "metadata": {},
   "outputs": [],
   "source": [
    "import numpy as np\n",
    "import pandas as pd\n",
    "import os\n",
    "import pickle"
   ]
  },
  {
   "cell_type": "code",
   "execution_count": 3,
   "metadata": {},
   "outputs": [],
   "source": [
    "state_purchase_df = pd.read_excel('State Purchases.xlsx')"
   ]
  },
  {
   "cell_type": "code",
   "execution_count": 4,
   "metadata": {},
   "outputs": [],
   "source": [
    "northeast = ['Connecticut', 'Maine', 'Massachusetts', 'New Hampshire', 'Rhode Island', 'Vermont', 'New Jersey', 'New York', 'Pennsylvania']\n",
    "midwest = ['Illinois', 'Indiana', 'Michigan', 'Ohio', 'Wisconsin', 'Iowa', 'Kansas', 'Minnesota', 'Missouri', 'Nebraska', 'North Dakota', 'South Dakota']\n",
    "south = ['Delaware', 'Florida', 'Georgia', 'Maryland', 'North Carolina', 'South Carolina', 'Virginia', 'District of Columbia', 'West Virginia', 'Alabama', 'Kentucky', 'Mississippi', 'Tennessee', 'Arkansas', 'Louisiana', 'Oklahoma', 'Texas']\n",
    "west = ['Arizona', 'Colorado', 'Idaho', 'Montana', 'Nevada', 'New Mexico', 'Utah', 'Wyoming', 'Alaska', 'California', 'Hawaii', 'Oregon', 'Washington']"
   ]
  },
  {
   "cell_type": "code",
   "execution_count": 5,
   "metadata": {},
   "outputs": [
    {
     "data": {
      "text/html": [
       "<div>\n",
       "<style scoped>\n",
       "    .dataframe tbody tr th:only-of-type {\n",
       "        vertical-align: middle;\n",
       "    }\n",
       "\n",
       "    .dataframe tbody tr th {\n",
       "        vertical-align: top;\n",
       "    }\n",
       "\n",
       "    .dataframe thead th {\n",
       "        text-align: right;\n",
       "    }\n",
       "</style>\n",
       "<table border=\"1\" class=\"dataframe\">\n",
       "  <thead>\n",
       "    <tr style=\"text-align: right;\">\n",
       "      <th></th>\n",
       "      <th>State</th>\n",
       "      <th>Weapons Purchase Amount</th>\n",
       "      <th>Tactical Equipment Purchase Amount</th>\n",
       "      <th>Vehicle Purchase Amount</th>\n",
       "      <th>Political Affiliation</th>\n",
       "    </tr>\n",
       "  </thead>\n",
       "  <tbody>\n",
       "    <tr>\n",
       "      <th>0</th>\n",
       "      <td>Missouri</td>\n",
       "      <td>426816.25</td>\n",
       "      <td>1221055.70</td>\n",
       "      <td>2.567322e+07</td>\n",
       "      <td>Republican</td>\n",
       "    </tr>\n",
       "    <tr>\n",
       "      <th>1</th>\n",
       "      <td>New Mexico</td>\n",
       "      <td>9417.42</td>\n",
       "      <td>1465109.17</td>\n",
       "      <td>2.351108e+07</td>\n",
       "      <td>Democrat</td>\n",
       "    </tr>\n",
       "    <tr>\n",
       "      <th>2</th>\n",
       "      <td>Massachusetts</td>\n",
       "      <td>280203.75</td>\n",
       "      <td>300937.80</td>\n",
       "      <td>7.226124e+06</td>\n",
       "      <td>Democrat</td>\n",
       "    </tr>\n",
       "    <tr>\n",
       "      <th>3</th>\n",
       "      <td>Kentucky</td>\n",
       "      <td>873247.06</td>\n",
       "      <td>791622.36</td>\n",
       "      <td>3.381727e+07</td>\n",
       "      <td>Republican</td>\n",
       "    </tr>\n",
       "    <tr>\n",
       "      <th>4</th>\n",
       "      <td>California</td>\n",
       "      <td>2940742.92</td>\n",
       "      <td>10648080.72</td>\n",
       "      <td>1.012467e+08</td>\n",
       "      <td>Democrat</td>\n",
       "    </tr>\n",
       "  </tbody>\n",
       "</table>\n",
       "</div>"
      ],
      "text/plain": [
       "           State  Weapons Purchase Amount  Tactical Equipment Purchase Amount  \\\n",
       "0       Missouri                426816.25                          1221055.70   \n",
       "1     New Mexico                  9417.42                          1465109.17   \n",
       "2  Massachusetts                280203.75                           300937.80   \n",
       "3       Kentucky                873247.06                           791622.36   \n",
       "4     California               2940742.92                         10648080.72   \n",
       "\n",
       "   Vehicle Purchase Amount Political Affiliation  \n",
       "0             2.567322e+07            Republican  \n",
       "1             2.351108e+07              Democrat  \n",
       "2             7.226124e+06              Democrat  \n",
       "3             3.381727e+07            Republican  \n",
       "4             1.012467e+08              Democrat  "
      ]
     },
     "execution_count": 5,
     "metadata": {},
     "output_type": "execute_result"
    }
   ],
   "source": [
    "state_purchase_df.head()"
   ]
  },
  {
   "cell_type": "code",
   "execution_count": 6,
   "metadata": {},
   "outputs": [
    {
     "name": "stdout",
     "output_type": "stream",
     "text": [
      "New Jersey\n"
     ]
    }
   ],
   "source": [
    "max_northeast = 0\n",
    "northeast_state = ''\n",
    "for x in northeast:\n",
    "    state_row = state_purchase_df.loc[state_purchase_df['State'] == x]\n",
    "    total_spent = state_row['Weapons Purchase Amount'] + state_row['Tactical Equipment Purchase Amount'] + state_row['Vehicle Purchase Amount']\n",
    "    if float(total_spent) > max_northeast:\n",
    "        max_northeast= float(total_spent)\n",
    "        northeast_state = x\n",
    "print(northeast_state)"
   ]
  },
  {
   "cell_type": "code",
   "execution_count": 7,
   "metadata": {},
   "outputs": [
    {
     "name": "stdout",
     "output_type": "stream",
     "text": [
      "Ohio\n"
     ]
    }
   ],
   "source": [
    "max_widwest = 0\n",
    "midwest_state = ''\n",
    "for x in midwest:\n",
    "    state_row = state_purchase_df.loc[state_purchase_df['State'] == x]\n",
    "    total_spent = state_row['Weapons Purchase Amount'] + state_row['Tactical Equipment Purchase Amount'] + state_row['Vehicle Purchase Amount']\n",
    "    if float(total_spent) > max_widwest:\n",
    "        max_widwest= float(total_spent)\n",
    "        midwest_state = x\n",
    "print(midwest_state)"
   ]
  },
  {
   "cell_type": "code",
   "execution_count": 8,
   "metadata": {},
   "outputs": [
    {
     "name": "stdout",
     "output_type": "stream",
     "text": [
      "Florida\n"
     ]
    }
   ],
   "source": [
    "max_south = 0\n",
    "south_state = ''\n",
    "for x in south:\n",
    "    state_row = state_purchase_df.loc[state_purchase_df['State'] == x]\n",
    "    total_spent = state_row['Weapons Purchase Amount'] + state_row['Tactical Equipment Purchase Amount'] + state_row['Vehicle Purchase Amount']\n",
    "    if float(total_spent) > max_south:\n",
    "        max_south= float(total_spent)\n",
    "        south_state = x\n",
    "print(south_state)"
   ]
  },
  {
   "cell_type": "code",
   "execution_count": 9,
   "metadata": {},
   "outputs": [
    {
     "name": "stdout",
     "output_type": "stream",
     "text": [
      "California\n"
     ]
    }
   ],
   "source": [
    "max_west = 0\n",
    "west_state = ''\n",
    "for x in west:\n",
    "    state_row = state_purchase_df.loc[state_purchase_df['State'] == x]\n",
    "    total_spent = state_row['Weapons Purchase Amount'] + state_row['Tactical Equipment Purchase Amount'] + state_row['Vehicle Purchase Amount']\n",
    "    if float(total_spent) > max_west:\n",
    "        max_west= float(total_spent)\n",
    "        west_state = x\n",
    "print(west_state)"
   ]
  },
  {
   "cell_type": "code",
   "execution_count": 10,
   "metadata": {},
   "outputs": [],
   "source": [
    "import requests\n",
    "from bs4 import BeautifulSoup"
   ]
  },
  {
   "cell_type": "code",
   "execution_count": 42,
   "metadata": {},
   "outputs": [],
   "source": [
    "emptylink = \"https://en.wikipedia.org/wiki/{},_New_Jersey\"\n",
    "search = 'Matawan'\n",
    "\n",
    "page = requests.get(emptylink.format(search))"
   ]
  },
  {
   "cell_type": "code",
   "execution_count": 43,
   "metadata": {},
   "outputs": [],
   "source": [
    "soup = BeautifulSoup(page.text, 'html5lib')"
   ]
  },
  {
   "cell_type": "code",
   "execution_count": 44,
   "metadata": {},
   "outputs": [
    {
     "data": {
      "text/plain": [
       "<p><b>Matawan</b> is a <a href=\"/wiki/Borough_(New_Jersey)\" title=\"Borough (New Jersey)\">borough</a> in <a href=\"/wiki/Monmouth_County,_New_Jersey\" title=\"Monmouth County, New Jersey\">Monmouth County</a>, <a href=\"/wiki/New_Jersey\" title=\"New Jersey\">New Jersey</a>, United States. As of the <a href=\"/wiki/2010_United_States_Census\" title=\"2010 United States Census\">2010 United States Census</a>, the borough's population was 8,810,<sup class=\"reference\" id=\"cite_ref-Census2010_9-1\"><a href=\"#cite_note-Census2010-9\">[9]</a></sup><sup class=\"reference\" id=\"cite_ref-Districts2011_10-1\"><a href=\"#cite_note-Districts2011-10\">[10]</a></sup><sup class=\"reference\" id=\"cite_ref-LWD2010_11-1\"><a href=\"#cite_note-LWD2010-11\">[11]</a></sup> reflecting a decline of 100 (-1.1%) from the 8,910 counted in the <a href=\"/wiki/2000_United_States_Census\" title=\"2000 United States Census\">2000 Census</a>, which had in turn declined by 360 (-3.9%) from the 9,270 counted in the <a href=\"/wiki/1990_United_States_Census\" title=\"1990 United States Census\">1990 Census</a>.<sup class=\"reference\" id=\"cite_ref-20\"><a href=\"#cite_note-20\">[20]</a></sup></p>"
      ]
     },
     "execution_count": 44,
     "metadata": {},
     "output_type": "execute_result"
    }
   ],
   "source": [
    "soup.find('p')"
   ]
  },
  {
   "cell_type": "code",
   "execution_count": 36,
   "metadata": {},
   "outputs": [],
   "source": [
    "for x in soup.find_all('span', attrs = {'class': 'P1usbc'}):\n",
    "    print()\n",
    "    print(x)\n",
    "    print()"
   ]
  },
  {
   "cell_type": "code",
   "execution_count": null,
   "metadata": {},
   "outputs": [],
   "source": []
  }
 ],
 "metadata": {
  "kernelspec": {
   "display_name": "Python 3",
   "language": "python",
   "name": "python3"
  },
  "language_info": {
   "codemirror_mode": {
    "name": "ipython",
    "version": 3
   },
   "file_extension": ".py",
   "mimetype": "text/x-python",
   "name": "python",
   "nbconvert_exporter": "python",
   "pygments_lexer": "ipython3",
   "version": "3.6.5"
  }
 },
 "nbformat": 4,
 "nbformat_minor": 2
}
