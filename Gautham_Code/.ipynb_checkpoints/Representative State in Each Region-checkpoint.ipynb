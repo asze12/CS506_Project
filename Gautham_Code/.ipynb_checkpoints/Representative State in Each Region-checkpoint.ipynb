{
 "cells": [
  {
   "cell_type": "code",
   "execution_count": 2,
   "metadata": {},
   "outputs": [],
   "source": [
    "import numpy as np\n",
    "import pandas as pd\n",
    "import os\n",
    "import pickle"
   ]
  },
  {
   "cell_type": "code",
   "execution_count": 3,
   "metadata": {},
   "outputs": [],
   "source": [
    "state_purchase_df = pd.read_excel('State Purchases.xlsx')"
   ]
  },
  {
   "cell_type": "code",
   "execution_count": 4,
   "metadata": {},
   "outputs": [],
   "source": [
    "northeast = ['Connecticut', 'Maine', 'Massachusetts', 'New Hampshire', 'Rhode Island', 'Vermont', 'New Jersey', 'New York', 'Pennsylvania']\n",
    "midwest = ['Illinois', 'Indiana', 'Michigan', 'Ohio', 'Wisconsin', 'Iowa', 'Kansas', 'Minnesota', 'Missouri', 'Nebraska', 'North Dakota', 'South Dakota']\n",
    "south = ['Delaware', 'Florida', 'Georgia', 'Maryland', 'North Carolina', 'South Carolina', 'Virginia', 'District of Columbia', 'West Virginia', 'Alabama', 'Kentucky', 'Mississippi', 'Tennessee', 'Arkansas', 'Louisiana', 'Oklahoma', 'Texas']\n",
    "west = ['Arizona', 'Colorado', 'Idaho', 'Montana', 'Nevada', 'New Mexico', 'Utah', 'Wyoming', 'Alaska', 'California', 'Hawaii', 'Oregon', 'Washington']"
   ]
  },
  {
   "cell_type": "code",
   "execution_count": 5,
   "metadata": {},
   "outputs": [
    {
     "data": {
      "text/html": [
       "<div>\n",
       "<style scoped>\n",
       "    .dataframe tbody tr th:only-of-type {\n",
       "        vertical-align: middle;\n",
       "    }\n",
       "\n",
       "    .dataframe tbody tr th {\n",
       "        vertical-align: top;\n",
       "    }\n",
       "\n",
       "    .dataframe thead th {\n",
       "        text-align: right;\n",
       "    }\n",
       "</style>\n",
       "<table border=\"1\" class=\"dataframe\">\n",
       "  <thead>\n",
       "    <tr style=\"text-align: right;\">\n",
       "      <th></th>\n",
       "      <th>State</th>\n",
       "      <th>Weapons Purchase Amount</th>\n",
       "      <th>Tactical Equipment Purchase Amount</th>\n",
       "      <th>Vehicle Purchase Amount</th>\n",
       "      <th>Political Affiliation</th>\n",
       "    </tr>\n",
       "  </thead>\n",
       "  <tbody>\n",
       "    <tr>\n",
       "      <th>0</th>\n",
       "      <td>Missouri</td>\n",
       "      <td>426816.25</td>\n",
       "      <td>1221055.70</td>\n",
       "      <td>2.567322e+07</td>\n",
       "      <td>Republican</td>\n",
       "    </tr>\n",
       "    <tr>\n",
       "      <th>1</th>\n",
       "      <td>New Mexico</td>\n",
       "      <td>9417.42</td>\n",
       "      <td>1465109.17</td>\n",
       "      <td>2.351108e+07</td>\n",
       "      <td>Democrat</td>\n",
       "    </tr>\n",
       "    <tr>\n",
       "      <th>2</th>\n",
       "      <td>Massachusetts</td>\n",
       "      <td>280203.75</td>\n",
       "      <td>300937.80</td>\n",
       "      <td>7.226124e+06</td>\n",
       "      <td>Democrat</td>\n",
       "    </tr>\n",
       "    <tr>\n",
       "      <th>3</th>\n",
       "      <td>Kentucky</td>\n",
       "      <td>873247.06</td>\n",
       "      <td>791622.36</td>\n",
       "      <td>3.381727e+07</td>\n",
       "      <td>Republican</td>\n",
       "    </tr>\n",
       "    <tr>\n",
       "      <th>4</th>\n",
       "      <td>California</td>\n",
       "      <td>2940742.92</td>\n",
       "      <td>10648080.72</td>\n",
       "      <td>1.012467e+08</td>\n",
       "      <td>Democrat</td>\n",
       "    </tr>\n",
       "  </tbody>\n",
       "</table>\n",
       "</div>"
      ],
      "text/plain": [
       "           State  Weapons Purchase Amount  Tactical Equipment Purchase Amount  \\\n",
       "0       Missouri                426816.25                          1221055.70   \n",
       "1     New Mexico                  9417.42                          1465109.17   \n",
       "2  Massachusetts                280203.75                           300937.80   \n",
       "3       Kentucky                873247.06                           791622.36   \n",
       "4     California               2940742.92                         10648080.72   \n",
       "\n",
       "   Vehicle Purchase Amount Political Affiliation  \n",
       "0             2.567322e+07            Republican  \n",
       "1             2.351108e+07              Democrat  \n",
       "2             7.226124e+06              Democrat  \n",
       "3             3.381727e+07            Republican  \n",
       "4             1.012467e+08              Democrat  "
      ]
     },
     "execution_count": 5,
     "metadata": {},
     "output_type": "execute_result"
    }
   ],
   "source": [
    "state_purchase_df.head()"
   ]
  },
  {
   "cell_type": "code",
   "execution_count": 6,
   "metadata": {},
   "outputs": [
    {
     "name": "stdout",
     "output_type": "stream",
     "text": [
      "New Jersey\n"
     ]
    }
   ],
   "source": [
    "max_northeast = 0\n",
    "northeast_state = ''\n",
    "for x in northeast:\n",
    "    state_row = state_purchase_df.loc[state_purchase_df['State'] == x]\n",
    "    total_spent = state_row['Weapons Purchase Amount'] + state_row['Tactical Equipment Purchase Amount'] + state_row['Vehicle Purchase Amount']\n",
    "    if float(total_spent) > max_northeast:\n",
    "        max_northeast= float(total_spent)\n",
    "        northeast_state = x\n",
    "print(northeast_state)"
   ]
  },
  {
   "cell_type": "code",
   "execution_count": 7,
   "metadata": {},
   "outputs": [
    {
     "name": "stdout",
     "output_type": "stream",
     "text": [
      "Ohio\n"
     ]
    }
   ],
   "source": [
    "max_widwest = 0\n",
    "midwest_state = ''\n",
    "for x in midwest:\n",
    "    state_row = state_purchase_df.loc[state_purchase_df['State'] == x]\n",
    "    total_spent = state_row['Weapons Purchase Amount'] + state_row['Tactical Equipment Purchase Amount'] + state_row['Vehicle Purchase Amount']\n",
    "    if float(total_spent) > max_widwest:\n",
    "        max_widwest= float(total_spent)\n",
    "        midwest_state = x\n",
    "print(midwest_state)"
   ]
  },
  {
   "cell_type": "code",
   "execution_count": 8,
   "metadata": {},
   "outputs": [
    {
     "name": "stdout",
     "output_type": "stream",
     "text": [
      "Florida\n"
     ]
    }
   ],
   "source": [
    "max_south = 0\n",
    "south_state = ''\n",
    "for x in south:\n",
    "    state_row = state_purchase_df.loc[state_purchase_df['State'] == x]\n",
    "    total_spent = state_row['Weapons Purchase Amount'] + state_row['Tactical Equipment Purchase Amount'] + state_row['Vehicle Purchase Amount']\n",
    "    if float(total_spent) > max_south:\n",
    "        max_south= float(total_spent)\n",
    "        south_state = x\n",
    "print(south_state)"
   ]
  },
  {
   "cell_type": "code",
   "execution_count": 9,
   "metadata": {},
   "outputs": [
    {
     "name": "stdout",
     "output_type": "stream",
     "text": [
      "California\n"
     ]
    }
   ],
   "source": [
    "max_west = 0\n",
    "west_state = ''\n",
    "for x in west:\n",
    "    state_row = state_purchase_df.loc[state_purchase_df['State'] == x]\n",
    "    total_spent = state_row['Weapons Purchase Amount'] + state_row['Tactical Equipment Purchase Amount'] + state_row['Vehicle Purchase Amount']\n",
    "    if float(total_spent) > max_west:\n",
    "        max_west= float(total_spent)\n",
    "        west_state = x\n",
    "print(west_state)"
   ]
  },
  {
   "cell_type": "code",
   "execution_count": 10,
   "metadata": {},
   "outputs": [],
   "source": [
    "import requests\n",
    "from bs4 import BeautifulSoup"
   ]
  },
  {
   "cell_type": "code",
   "execution_count": 32,
   "metadata": {},
   "outputs": [],
   "source": [
    "emptylink = \"https://en.wikipedia.org/wiki/{},_New_Jersey\"\n",
    "search = 'Matapan'\n",
    "\n",
    "page = requests.get(emptylink.format(search))"
   ]
  },
  {
   "cell_type": "code",
   "execution_count": 33,
   "metadata": {},
   "outputs": [],
   "source": [
    "soup = BeautifulSoup(page.text, 'html5lib')"
   ]
  },
  {
   "cell_type": "code",
   "execution_count": 36,
   "metadata": {},
   "outputs": [],
   "source": [
    "for x in soup.find_all('span', attrs = {'class': 'P1usbc'}):\n",
    "    print()\n",
    "    print(x)\n",
    "    print()"
   ]
  },
  {
   "cell_type": "code",
   "execution_count": 37,
   "metadata": {},
   "outputs": [
    {
     "data": {
      "text/plain": [
       "<!DOCTYPE html>\n",
       "<html itemscope=\"\" itemtype=\"http://schema.org/SearchResultsPage\" lang=\"en\"><head><meta content=\"text/html; charset=utf-8\" http-equiv=\"Content-Type\"/><meta content=\"/images/branding/googleg/1x/googleg_standard_color_128dp.png\" itemprop=\"image\"/><link href=\"/images/branding/product/ico/googleg_lodp.ico\" rel=\"shortcut icon\"/><title>Matapan New Jersey wiki - Google Search</title><style>#gbar,#guser{font-size:13px;padding-top:1px !important;}#gbar{height:22px}#guser{padding-bottom:7px !important;text-align:right}.gbh,.gbd{border-top:1px solid #c9d7f1;font-size:1px}.gbh{height:0;position:absolute;top:24px;width:100%}@media all{.gb1{height:22px;margin-right:.5em;vertical-align:top}#gbar{float:left}}a.gb1,a.gb4{text-decoration:underline !important}a.gb1,a.gb4{color:#00c !important}.gbi .gb4{color:#dd8e27 !important}.gbf .gb4{color:#900 !important} </style><style>.star{float:left;margin-top:1px;overflow:hidden}.ybhkme{font-size:11px}.j{width:34em}body,td,div,.p,a{font-family:arial,sans-serif;tap-highlight-color:rgba(255,255,255,0)}body{margin:0}a img{border:0}#gbar{float:left;height:22px;padding-left:2px;font-size:13px}.gsfi,.gsfs{font-size:17px}.w,.q:active,.q:visited,.tbotu{color:#11c}a.gl{text-decoration:none}#foot{padding:0 8px}#foot a{white-space:nowrap}h3{font-size:16px;font-weight:normal;margin:0;padding:0}#res h3{display:inline}.hd{height:1px;position:absolute;top:-1000em}.g,body,html,table,.std{font-size:13px}.g{margin-bottom:23px;margin-top:0;zoom:1}ol li,ul li{list-style:none}h1,ol,ul,li{margin:0;padding:0}.e{margin:2px 0 0.75em}#leftnav a{text-decoration:none}#leftnav h2{color:#767676;font-weight:normal;margin:0}#nav{border-collapse:collapse;margin-top:17px;text-align:left}#nav td{text-align:center}.nobr{white-space:nowrap}.ts{border-collapse:collapse}.s br{display:none}.csb{display:block;height:40px}.images_table td{line-height:17px;padding-bottom:16px}.images_table img{border:1px solid #ccc;padding:1px}#tbd,#abd{display:block;min-height:1px}#abd{padding-top:3px}#tbd li{display:inline}.TIrJXe,.UU5df{margin-bottom:8px}#tbd .tbt li{display:block;font-size:13px;line-height:1.2;padding-bottom:3px;padding-left:8px;text-indent:-8px}.tbos,.b{font-weight:bold}em{font-weight:bold;font-style:normal}.mime{color:#1a0dab;font-weight:bold;font-size:x-small}.soc a{text-decoration:none}.soc{color:#808080}.ul7Gbc{color:#e7711b}#Db7kif{border:1px solid #e0e0e0;margin-left:-8px;margin-right:-8px;padding:15px 20px 5px}.mrH1y{font-size:32px}.PZ6wOb{color:#777;font-size:16px;margin-top:5px}.gwrItc{color:#777;font-size:14px;margin-top:5px}.SVob4e{border:1px solid #e0e0e0;padding-left:20px}.mYu5Hb{border:1px solid #e0e0e0;padding:5px 20px}#vob{border:1px solid #e0e0e0;padding:15px 15px}#ZjIC2e{font-size:22px;line-height:22px;padding-bottom:5px}#vob_st{line-height:1.24}.DfLGHd{border-width:1px;border-style:solid;border-color:#eee;background-color:#fff;position:relative;margin-bottom:26px}.uRIxYb,.NjTIc,.DXoZmb{font-family:Arial;font-weight:lighter}.uRIxYb{margin-bottom:5px}.uRIxYb{font-size:xx-large}.NjTIc{font-size:medium}.DXoZmb{font-size:small}.DfLGHd{margin-left:-8px;margin-right:-15px;padding:20px 20px 24px}.ernfsc{border-spacing:0px 2px}.D3VFNd{max-width:380px;text-overflow:ellipsis;white-space:nowrap;overflow:hidden;padding-left:0px}.c1Ujmc{padding-left:15px;white-space:nowrap;color:#666}.EjZtie{padding-left:0px}.SFt5jb{color:#212121}.Pt7r9e{color:#878787}.bkcGhd{color:#093}.fIP9ce{color:#c00}.LDBB9d{padding:1px}.vT9M9c{color:#dd4b39}.gssb_a{padding:0 10px !important}.gssb_c{left:132px !important;right:295px !important;top:78px !important;width:572px !important}.gssb_c table{font-size:16px !important}.gssb_e{border:1px solid #ccc !important;border-top-color:#d9d9d9 !important}.gssb_i{background:#eee !important}#res{padding:0 8px}#rhs_block{padding-top:43px}#MCN7mf{padding:0 8px}#subform_ctrl{font-size:11px;height:17px;margin:5px 3px 0 17px}.taf{padding-bottom:3px}.WIkLp{padding:20px 0 3px}.FuZzl{padding:20px 0 3px}#topstuff .e{padding-bottom:6px}.slk .sld{width:250px}.slk{margin-bottom:-3px}.slk .zaHRAf{padding-bottom:5px;width:250px}.ac,.st{line-height:1.24}.mfr,#ofr{font-size:16px;margin:1em 0;padding:0 8px}.tZz6cc{padding-bottom:25px}.s{color:#545454}.ac{color:#545454}a.fl,.A8ul6 a,.osl a{color:#1a0dab;text-decoration:none}a:link{color:#1a0dab;cursor:pointer}#tads a:link{color:#1a0dab}#tads .soc a:link{color:#808080}a:visited{color:#61C}.blg a{text-decoration:none}cite,cite a:link{color:#006621;font-style:normal}#tads cite{color:#006621}.hJND5c{font-size:15px}.kvs{margin-top:1px}.hJND5c,.kvs,.slp{display:block;margin-bottom:1px}.kt{border-spacing:2px 0;margin-top:1px}.f{color:#808080}.L4Zeue{color:#093}h4.r{display:inline;font-size:small;font-weight:normal}.g{line-height:1.2}.NpC9Hd{display:inline-block;vertical-align:top;overflow:hidden;position:relative}.COi8F{margin:0 0 2em 1.3em}.COi8F li{list-style-type:disc}.osl{color:#777;margin-top:4px}.r{font-size:16px;margin:0}.spell{font-size:16px}.spell_orig{font-size:13px}.spell_orig a{text-decoration:none}.spell_orig b i{font-style:normal;font-weight:normal}.th{border:1px solid #ebebeb}.ts td{padding:0}.videobox{padding-bottom:3px}.slk a{text-decoration:none}#leftnav a:hover,#leftnav .tbou a:hover,.slk h3 a,a:hover{text-decoration:underline}#mn{table-layout:fixed;width:100%}#leftnav a{color:#222;font-size:13px}#leftnav{padding:43px 4px 4px 0}.tbos{color:#dd4b39}.tbt{margin-bottom:28px}#tbd{padding:0 0 0 16px}.tbou a{color:#222}#center_col{border:0;padding:0 8px 0 0}#topstuff .e{padding-top:3px}#topstuff .sp_cnt{padding-top:6px}#ab_name{color:#dd4b39;font:20px \"Arial\";margin-left:15px}#resultStats{color:#999;font-size:13px;overflow:hidden;white-space:nowrap}.mslg>td{padding-right:1px;padding-top:2px}.slk .sld{margin-top:2px;padding:5px 0 5px 5px}.fmp{padding-top:3px}.close_btn{overflow:hidden}#fll a,#bfl a{color:#1a0dab !important;margin:0 12px;text-decoration:none !important}.ng{color:#dd4b39}#mss{margin:.33em 0 0;padding:0;display:table}.NYKCib{display:inline-block;float:left;white-space:nowrap;padding-right:16px}#mss p{margin:0;padding-top:5px}.tn{border-bottom:1px solid #ebebeb;display:block;float:left;height:59px;line-height:54px;min-width:980px;padding:0;position:relative;white-space:nowrap}.qrSWbe,a.qrSWbe{color:#777;cursor:pointer;display:inline-block;font-family:arial,sans-serif;font-size:small;height:54px;line-height:54px;margin:0 8px;padding:0 8px;text-decoration:none;white-space:nowrap}.tnuiC{border-bottom:3px solid #dd4b39;color:#dd4b39;font-weight:bold;margin:2px 8px 0}a.KDZjCd:hover{color:black;text-decoration:none;white-space:nowrap}body{margin:0;padding:0}.sFTC8c{display:inline-block;float:left;margin-top:2px}.pqkqJe,a.pqkqJe{margin-left:1px}.sd{line-height:43px;padding:0 8px 0 9px}a:active,.osl a:active,.tbou a:active,#leftnav a:active{color:#dd4b39}#bfl a:active{color:#dd4b39 !important}.csb{background:url(/images/nav_logo229.png) no-repeat;overflow:hidden}.close_btn{background:url(/images/nav_logo229.png) no-repeat -138px -84px;height:14px;width:14px;display:block}.star{background:url(/images/nav_logo229.png) no-repeat -94px -245px;height:13px;width:65px;display:block}.star div,.star span{background:url(/images/nav_logo229.png) no-repeat 0 -245px;height:13px;width:65px;display:block}.Pj9hGd{display:inline;margin:0 3px;outline-color:transparent;overflow:hidden;position:relative}.Pj9hGd>div{outline-color:transparent}.CiacGf{border-color:transparent;border-style:solid dashed dashed;border-top-color:green;border-width:4px 4px 0 4px;cursor:pointer;display:inline-block;font-size:0;height:0;left:4px;line-height:0;outline-color:transparent;position:relative;top:-3px;width:0}.CiacGf{margin-top:-4px}.am-dropdown-menu{display:block;background:#fff;border:1px solid #dcdcdc;font-size:13px;left:0;padding:0;position:absolute;right:auto;white-space:nowrap;z-index:3}.mUpfKd{list-style:none;white-space:nowrap}.mUpfKd:hover{background-color:#eee}a.imx0m{color:#333;cursor:pointer;display:block;padding:7px 18px;text-decoration:none}#tads a.imx0m{color:#333}.sfbgg{background:#f1f1f1;border-bottom:1px solid #e5e5e5;height:71px}#logocont{z-index:1;padding-left:4px;padding-top:4px}#logo{display:block;height:49px;margin-top:12px;margin-left:12px;overflow:hidden;position:relative;width:137px}#logo img{left:0;position:absolute;top:-41px}.lst-a{background:white;border:1px solid #d9d9d9;border-top-color:silver;width:570px}.lst-a:hover{border:1px solid #b9b9b9;border-top:1px solid #a0a0a0;box-shadow:inset 0 1px 2px rgba(0,0,0,0.1);-webkit-box-shadow:inset 0 1px 2px rgba(0,0,0,0.1);-moz-box-shadow:inset 0 1px 2px rgba(0,0,0,0.1)}.lst-td{border:none;padding:0}.tia input{border-right:none;padding-right:0}.tia{padding-right:0}.lst{background:none;border:none;color:#000;font:16px arial,sans-serif;float:left;height:22px;margin:0;padding:3px 6px 2px 9px;vertical-align:top;width:100%;word-break:break-all}.lst:focus{outline:none}.lst-b{background:none;border:none;height:26px;padding:0 6px 0 12px}.ds{border-right:1px solid #e7e7e7;position:relative;height:29px;margin-left:17px;z-index:100}.lsbb{background-image:-moz-linear-gradient(top,#4d90fe,#4787ed);background-image:-ms-linear-gradient(top,#4d90fe,#4787ed);background-image:-o-linear-gradient(top,#4d90fe,#4787ed);background-image:-webkit-gradient(linear,left top,left bottom,from(#4d90fe),to(#4787ed));background-image:-webkit-linear-gradient(top,#4d90fe,#4787ed);background-image:linear-gradient(top,#4d90fe,#4787ed);border:1px solid #3079ed;border-radius:2px;background-color:#4d90fe;height:27px;width:68px}.lsbb:hover{background-image:-moz-linear-gradient(top,#4d90fe,#357ae8);background-image:-ms-linear-gradient(top,#4d90fe,#357ae8);background-image:-o-linear-gradient(top,#4d90fe,#357ae8);background-image:-webkit-gradient(linear,left top,left bottom,from(#4d90fe),to(#357ae8));background-image:-webkit-linear-gradient(top,#4d90fe,#357ae8);background-color:#357ae8;background-image:linear-gradient(top,#4d90fe,#357ae8);border:1px solid #2f5bb7}.lsb{background:transparent;background-position:0 -343px;background-repeat:repeat-x;border:none;color:#000;cursor:default;font:15px arial,sans-serif;height:29px;margin:0;vertical-align:top;width:100%}.lsb:active{-moz-box-shadow:inset 0 1px 2px rgba(0,0,0,0.3);-webkit-box-shadow:inset 0 1px 2px rgba(0,0,0,0.3);box-shadow:inset 0 1px 2px rgba(0,0,0,0.3);background:transparent;color:transparent;overflow:hidden;position:relative;width:100%}.sbico{color:transparent;display:inline-block;height:15px;margin:0 auto;margin-top:2px;width:15px;overflow:hidden}</style><script nonce=\"PbTTH1Um+xBHvqdj7p9YIg==\">(function(){window.google={kEI:'AtLKWtaCDsqO5wLg_7G4Dw',kEXPI:'0,1353746,530,640,759,87,678,339,74,366,718,1,173,110,6,50,121,16,2341911,115,81,329294,1294,12383,2349,2506,32692,16114,769,7,792,7,5117,4069,1402,6381,3101,234,2,2,1624,515,2465,2197,366,551,332,332,326,1776,113,1614,587,1675,1516,224,843,45,1324,63,73,49,81,3322,658,208,919,444,694,1116,373,24,287,64,311,295,438,618,402,43,324,37,304,249,160,612,388,788,1114,299,844,6,154,323,5,402,129,294,497,695,2,49,430,38,7,1,2,41,107,230,225,7,636,8,308,17,213,770,66,195,73,650,137,66,43,332,685,21,20,343,200,413,47,130,90,55,2,352,142,265,2,107,7,249,596,327,208,158,29,347,26,10,428,2347791,194,3,154,3686462,2545,9,5997389,150,25116979',authuser:0,kscs:'c9c918f0_AtLKWtaCDsqO5wLg_7G4Dw',u:'c9c918f0',kGL:'US'};google.kHL='en';})();(function(){google.lc=[];google.li=0;google.getEI=function(a){for(var b;a&&(!a.getAttribute||!(b=a.getAttribute(\"eid\")));)a=a.parentNode;return b||google.kEI};google.getLEI=function(a){for(var b=null;a&&(!a.getAttribute||!(b=a.getAttribute(\"leid\")));)a=a.parentNode;return b};google.https=function(){return\"https:\"==window.location.protocol};google.ml=function(){return null};google.wl=function(a,b){try{google.ml(Error(a),!1,b)}catch(d){}};google.time=function(){return(new Date).getTime()};google.log=function(a,b,d,c,g){if(a=google.logUrl(a,b,d,c,g)){b=new Image;var e=google.lc,f=google.li;e[f]=b;b.onerror=b.onload=b.onabort=function(){delete e[f]};google.vel&&google.vel.lu&&google.vel.lu(a);b.src=a;google.li=f+1}};google.logUrl=function(a,b,d,c,g){var e=\"\",f=google.ls||\"\";d||-1!=b.search(\"&ei=\")||(e=\"&ei=\"+google.getEI(c),-1==b.search(\"&lei=\")&&(c=google.getLEI(c))&&(e+=\"&lei=\"+c));c=\"\";!d&&google.cshid&&-1==b.search(\"&cshid=\")&&(c=\"&cshid=\"+google.cshid);a=d||\"/\"+(g||\"gen_204\")+\"?atyp=i&ct=\"+a+\"&cad=\"+b+e+f+\"&zx=\"+google.time()+c;/^http:/i.test(a)&&google.https()&&(google.ml(Error(\"a\"),!1,{src:a,glmm:1}),a=\"\");return a};}).call(this);(function(){google.y={};google.x=function(a,b){if(a)var c=a.id;else{do c=Math.random();while(google.y[c])}google.y[c]=[a,b];return!1};google.lm=[];google.plm=function(a){google.lm.push.apply(google.lm,a)};google.lq=[];google.load=function(a,b,c){google.lq.push([[a],b,c])};google.loadAll=function(a,b){google.lq.push([a,b])};}).call(this);google.f={};(function(){var b={gen204:\"dcl\",clearcut:4};var c=[function(){google.c&&google.tick(\"load\",b)}];google.dclc=function(a){c.length?c.push(a):a()};function d(){for(var a;a=c.shift();)a()}window.addEventListener?(document.addEventListener(\"DOMContentLoaded\",d,!1),window.addEventListener(\"load\",d,!1)):window.attachEvent&&window.attachEvent(\"onload\",d);}).call(this);</script><script nonce=\"PbTTH1Um+xBHvqdj7p9YIg==\" type=\"text/javascript\"></script><script nonce=\"PbTTH1Um+xBHvqdj7p9YIg==\">(function(){google.sham=function(c){for(var d=c.parentElement,a=null,b=0;b<d.childNodes.length;b++){var e=d.childNodes[b];-1<(\" \"+e.className+\" \").indexOf(\" am-dropdown-menu \")&&(a=e)}\"none\"==a.style.display?(a.style.display=\"\",google.log(\"hpam\",\"&ved=\"+c.getAttribute(\"data-ved\"))):a.style.display=\"none\"};}).call(this);(function(){var a=[];google.jsc={xx:a,x:function(b){a.push(b)}};}).call(this);</script></head><body bgcolor=\"#ffffff\" class=\"hsrp\" marginheight=\"0\" marginwidth=\"0\" topmargin=\"0\"><div id=\"gbar\"><nobr><b class=\"gb1\">Search</b> <a class=\"gb1\" href=\"https://www.google.com/search?hl=en&amp;tbm=isch&amp;source=og&amp;tab=wi\">Images</a> <a class=\"gb1\" href=\"https://maps.google.com/maps?hl=en&amp;tab=wl\">Maps</a> <a class=\"gb1\" href=\"https://play.google.com/?hl=en&amp;tab=w8\">Play</a> <a class=\"gb1\" href=\"https://www.youtube.com/results?gl=US&amp;tab=w1\">YouTube</a> <a class=\"gb1\" href=\"https://news.google.com/nwshp?hl=en&amp;tab=wn\">News</a> <a class=\"gb1\" href=\"https://mail.google.com/mail/?tab=wm\">Gmail</a> <a class=\"gb1\" href=\"https://drive.google.com/?tab=wo\">Drive</a> <a class=\"gb1\" href=\"https://www.google.com/intl/en/options/\" style=\"text-decoration:none\"><u>More</u> »</a></nobr></div><div id=\"guser\" width=\"100%\"><nobr><span class=\"gbi\" id=\"gbn\"></span><span class=\"gbf\" id=\"gbf\"></span><span id=\"gbe\"></span><a class=\"gb4\" href=\"http://www.google.com/history/optout?hl=en\">Web History</a> | <a class=\"gb4\" href=\"/preferences?hl=en\">Settings</a> | <a class=\"gb4\" href=\"https://accounts.google.com/ServiceLogin?hl=en&amp;passive=true&amp;continue=https://www.google.com.tr/search%3Fq%3DMatapan%2BNew%2BJersey%2Bwiki\" id=\"gb_70\" target=\"_top\">Sign in</a></nobr></div><div class=\"gbh\" style=\"left:0\"></div><div class=\"gbh\" style=\"right:0\"></div><table border=\"0\" cellpadding=\"0\" cellspacing=\"0\" id=\"mn\" style=\"position:relative\"><tbody><tr><th width=\"132\"></th><th width=\"573\"></th><th width=\"278\"></th><th></th></tr><tr><td class=\"sfbgg\" valign=\"top\"><div id=\"logocont\"><h1><a href=\"/webhp?hl=en\" id=\"logo\" style=\"background:url(/images/nav_logo229.png) no-repeat 0 -41px;height:37px;width:95px;display:block\" title=\"Go to Google Home\"></a></h1></div></td><td class=\"sfbgg\" colspan=\"2\" style=\"padding-left:0px\" valign=\"top\"><form action=\"/search\" id=\"tsf\" method=\"GET\" name=\"gs\" style=\"display:block;margin:0;background:none\"><table border=\"0\" cellpadding=\"0\" cellspacing=\"0\" style=\"margin-top:20px;position:relative\"><tbody><tr><td><div class=\"lst-a\"><table cellpadding=\"0\" cellspacing=\"0\"><tbody><tr><td class=\"lst-td\" valign=\"bottom\" width=\"555\"><div style=\"position:relative;zoom:1\"><input autocomplete=\"off\" class=\"lst\" id=\"sbhost\" maxlength=\"2048\" name=\"q\" title=\"Search\" type=\"text\" value=\"Matapan New Jersey wiki\"/></div></td></tr></tbody></table></div></td><td><div class=\"ds\"><div class=\"lsbb\"><button class=\"lsb\" name=\"btnG\" type=\"submit\" value=\"Search\"><span class=\"sbico\" style=\"background:url(/images/nav_logo229.png) no-repeat -36px -111px;height:14px;width:13px;display:block\"></span></button></div></div></td></tr></tbody></table></form></td><td class=\"sfbgg\"> </td></tr><tr style=\"position:relative\"><td><div style=\"border-bottom:1px solid #ebebeb;height:59px\"></div></td><td colspan=\"2\"><div class=\"tn\"><div class=\"qrSWbe tnuiC sFTC8c pqkqJe\">All</div><div class=\"sFTC8c\"><a class=\"qrSWbe KDZjCd\" href=\"/search?q=Matapan+New+Jersey+wiki&amp;ie=UTF-8&amp;prmd=ivns&amp;source=lnms&amp;tbm=isch&amp;sa=X&amp;ved=0ahUKEwjWi-rXlKzaAhVKx1kKHeB_DPcQ_AUIBQ\">Images</a></div><div class=\"sFTC8c\"><a class=\"qrSWbe KDZjCd\" href=\"/search?q=Matapan+New+Jersey+wiki&amp;ie=UTF-8&amp;prmd=ivns&amp;source=lnms&amp;tbm=vid&amp;sa=X&amp;ved=0ahUKEwjWi-rXlKzaAhVKx1kKHeB_DPcQ_AUIBg\">Videos</a></div><div class=\"sFTC8c\"><a class=\"qrSWbe KDZjCd\" href=\"/search?q=Matapan+New+Jersey+wiki&amp;ie=UTF-8&amp;prmd=ivns&amp;source=lnms&amp;tbm=nws&amp;sa=X&amp;ved=0ahUKEwjWi-rXlKzaAhVKx1kKHeB_DPcQ_AUIBw\">News</a></div><div class=\"sFTC8c\"><a class=\"qrSWbe KDZjCd\" href=\"/search?q=Matapan+New+Jersey+wiki&amp;ie=UTF-8&amp;prmd=ivns&amp;source=lnms&amp;tbm=shop&amp;sa=X&amp;ved=0ahUKEwjWi-rXlKzaAhVKx1kKHeB_DPcQ_AUICA\">Shopping</a></div><div class=\"sFTC8c\"><a class=\"qrSWbe KDZjCd\" href=\"https://maps.google.com.tr/maps?q=Matapan+New+Jersey+wiki&amp;um=1&amp;ie=UTF-8&amp;sa=X&amp;ved=0ahUKEwjWi-rXlKzaAhVKx1kKHeB_DPcQ_AUICQ\">Maps</a></div><div class=\"sFTC8c\"><a class=\"qrSWbe KDZjCd\" href=\"/search?q=Matapan+New+Jersey+wiki&amp;ie=UTF-8&amp;prmd=ivns&amp;source=lnms&amp;tbm=bks&amp;sa=X&amp;ved=0ahUKEwjWi-rXlKzaAhVKx1kKHeB_DPcQ_AUICg\">Books</a></div></div><div style=\"border-bottom:1px solid #ebebeb;height:59px\"></div></td><td><div style=\"border-bottom:1px solid #ebebeb;height:59px\"></div></td></tr></tbody><tbody id=\"desktop-search\"><style>.pCA4Bd,.pCA4Bd a:link,.pCA4Bd a:visited,a.pCA4Bd:link,a.pCA4Bd:visited{color:#808080}.AzrInc{color:#61C}.ellip{overflow:hidden;text-overflow:ellipsis;white-space:nowrap}</style><tr><td id=\"leftnav\" valign=\"top\"><div><h2 class=\"hd\">Search Options</h2><ul class=\"med\" id=\"tbd\"><li><ul class=\"tbt\"><li class=\"tbos\" id=\"qdr_\">Any time</li><li class=\"tbou\" id=\"qdr_h\"><a class=\"q\" href=\"/search?q=Matapan+New+Jersey+wiki&amp;ie=UTF-8&amp;prmd=ivns&amp;source=lnt&amp;tbs=qdr:h&amp;sa=X&amp;ved=0ahUKEwjWi-rXlKzaAhVKx1kKHeB_DPcQpwUIDw\">Past hour</a></li><li class=\"tbou\" id=\"qdr_d\"><a class=\"q\" href=\"/search?q=Matapan+New+Jersey+wiki&amp;ie=UTF-8&amp;prmd=ivns&amp;source=lnt&amp;tbs=qdr:d&amp;sa=X&amp;ved=0ahUKEwjWi-rXlKzaAhVKx1kKHeB_DPcQpwUIDw\">Past 24 hours</a></li><li class=\"tbou\" id=\"qdr_w\"><a class=\"q\" href=\"/search?q=Matapan+New+Jersey+wiki&amp;ie=UTF-8&amp;prmd=ivns&amp;source=lnt&amp;tbs=qdr:w&amp;sa=X&amp;ved=0ahUKEwjWi-rXlKzaAhVKx1kKHeB_DPcQpwUIDw\">Past week</a></li><li class=\"tbou\" id=\"qdr_m\"><a class=\"q\" href=\"/search?q=Matapan+New+Jersey+wiki&amp;ie=UTF-8&amp;prmd=ivns&amp;source=lnt&amp;tbs=qdr:m&amp;sa=X&amp;ved=0ahUKEwjWi-rXlKzaAhVKx1kKHeB_DPcQpwUIDw\">Past month</a></li><li class=\"tbou\" id=\"qdr_y\"><a class=\"q\" href=\"/search?q=Matapan+New+Jersey+wiki&amp;ie=UTF-8&amp;prmd=ivns&amp;source=lnt&amp;tbs=qdr:y&amp;sa=X&amp;ved=0ahUKEwjWi-rXlKzaAhVKx1kKHeB_DPcQpwUIDw\">Past year</a></li></ul></li><li><ul class=\"tbt\"><li class=\"tbos\" id=\"li_\">All results</li><li class=\"tbou\" id=\"li_1\"><a class=\"q\" href=\"/search?q=Matapan+New+Jersey+wiki&amp;ie=UTF-8&amp;prmd=ivns&amp;source=lnt&amp;tbs=li:1&amp;sa=X&amp;ved=0ahUKEwjWi-rXlKzaAhVKx1kKHeB_DPcQpwUIDw\">Verbatim</a></li></ul></li></ul></div></td><td valign=\"top\"><div id=\"center_col\"><div class=\"sd\" id=\"resultStats\">About 25,200 results</div><div id=\"MCN7mf\" style=\"font-size:16px;margin-bottom:1em\"><div style=\"padding-bottom:1px\"><span class=\"spell ng\" style=\"margin-bottom:7px\">Did you mean:</span> <a href=\"/search?q=Matawan+New+Jersey+wiki&amp;hl=en&amp;sa=X&amp;as_q=&amp;spell=1&amp;ved=0ahUKEwjWi-rXlKzaAhVKx1kKHeB_DPcQBQgRKAA\"><b><i>Matawan</i></b> New Jersey wiki</a></div></div><div id=\"res\"><div id=\"topstuff\"></div><div id=\"search\"><div id=\"ires\"><ol><div class=\"g\"><h3 class=\"r\"><a href=\"/url?q=https://en.wikipedia.org/wiki/Landing,_New_Jersey&amp;sa=U&amp;ved=0ahUKEwjWi-rXlKzaAhVKx1kKHeB_DPcQFggWMAA&amp;usg=AOvVaw2WqJTrI03VdKsXbZ8b6Yoh\">Landing, <b>New Jersey</b> - <b>Wikipedia</b></a></h3><div class=\"s\"><div class=\"hJND5c\" style=\"margin-bottom:2px\"><cite>https://en.<b>wikipedia</b>.org/<b>wiki</b>/Landing,_<b>New</b>_<b>Jersey</b></cite><div class=\"Pj9hGd\"><div aria-expanded=\"false\" aria-haspopup=\"true\" data-ved=\"0ahUKEwjWi-rXlKzaAhVKx1kKHeB_DPcQ7B0IFzAA\" onclick=\"google.sham(this);\" style=\"display:inline\" tabindex=\"0\"><span class=\"CiacGf\"></span></div><div class=\"am-dropdown-menu\" role=\"menu\" style=\"display:none\" tabindex=\"-1\"><ul><li class=\"mUpfKd\"><a class=\"imx0m\" href=\"/url?q=http://webcache.googleusercontent.com/search%3Fq%3Dcache:QOBggZC9S-YJ:https://en.wikipedia.org/wiki/Landing,_New_Jersey%252BMatapan%2BNew%2BJersey%2Bwiki%26hl%3Den%26ct%3Dclnk&amp;sa=U&amp;ved=0ahUKEwjWi-rXlKzaAhVKx1kKHeB_DPcQIAgZMAA&amp;usg=AOvVaw00DxZujoMtgmb7JXTKQMj1\">Cached</a></li><li class=\"mUpfKd\"><a class=\"imx0m\" href=\"/search?ie=UTF-8&amp;q=related:https://en.wikipedia.org/wiki/Landing,_New_Jersey+Matapan+New+Jersey+wiki&amp;tbo=1&amp;sa=X&amp;ved=0ahUKEwjWi-rXlKzaAhVKx1kKHeB_DPcQHwgaMAA\">Similar</a></li></ul></div></div></div><span class=\"st\">Landing is a small settlement and unincorporated community located within <br/>\n",
       "Roxbury Township, in Morris County, <b>New Jersey</b>, United States. The community <br/>\n",
       "is located on the south shore of Lake Hopatcong near Hopatcong State Park. The <br/>\n",
       "area is served as United States Postal Service ZIP Code 07850. As of the 2010 ...</span><br/></div></div><div class=\"g\"><h3 class=\"r\"><a href=\"/url?q=https://en.wikipedia.org/wiki/Allaire,_New_Jersey&amp;sa=U&amp;ved=0ahUKEwjWi-rXlKzaAhVKx1kKHeB_DPcQFggcMAE&amp;usg=AOvVaw18Ej8m8UAGmquCfFRaZohy\">Allaire, <b>New Jersey</b> - <b>Wikipedia</b></a></h3><div class=\"s\"><div class=\"hJND5c\" style=\"margin-bottom:2px\"><cite>https://en.<b>wikipedia</b>.org/<b>wiki</b>/Allaire,_<b>New</b>_<b>Jersey</b></cite><div class=\"Pj9hGd\"><div aria-expanded=\"false\" aria-haspopup=\"true\" data-ved=\"0ahUKEwjWi-rXlKzaAhVKx1kKHeB_DPcQ7B0IHTAB\" onclick=\"google.sham(this);\" style=\"display:inline\" tabindex=\"0\"><span class=\"CiacGf\"></span></div><div class=\"am-dropdown-menu\" role=\"menu\" style=\"display:none\" tabindex=\"-1\"><ul><li class=\"mUpfKd\"><a class=\"imx0m\" href=\"/url?q=http://webcache.googleusercontent.com/search%3Fq%3Dcache:iyCg5CU8R38J:https://en.wikipedia.org/wiki/Allaire,_New_Jersey%252BMatapan%2BNew%2BJersey%2Bwiki%26hl%3Den%26ct%3Dclnk&amp;sa=U&amp;ved=0ahUKEwjWi-rXlKzaAhVKx1kKHeB_DPcQIAgfMAE&amp;usg=AOvVaw0UZBJchkYKEd0UIetP8xhx\">Cached</a></li><li class=\"mUpfKd\"><a class=\"imx0m\" href=\"/search?ie=UTF-8&amp;q=related:https://en.wikipedia.org/wiki/Allaire,_New_Jersey+Matapan+New+Jersey+wiki&amp;tbo=1&amp;sa=X&amp;ved=0ahUKEwjWi-rXlKzaAhVKx1kKHeB_DPcQHwggMAE\">Similar</a></li></ul></div></div></div><span class=\"st\">Allaire is an unincorporated community located within Wall Township in <br/>\n",
       "Monmouth County, <b>New Jersey</b>, United States. As of the 2010 United States <br/>\n",
       "Census, the ZIP Code Tabulation Area for ZIP Code 07727 had a population of <br/>\n",
       "7,050. References[edit]. Jump up ^ ZIP Code Tabulation Areas - 2010 Census - <br/>\n",
       "Data as of ...</span><br/></div></div><div class=\"g\"><h3 class=\"r\"><a href=\"/url?q=https://en.wikipedia.org/wiki/Bloomsbury,_New_Jersey&amp;sa=U&amp;ved=0ahUKEwjWi-rXlKzaAhVKx1kKHeB_DPcQFggiMAI&amp;usg=AOvVaw1kMou0reJXuDkaVLOYOG6L\">Bloomsbury, <b>New Jersey</b> - <b>Wikipedia</b></a></h3><div class=\"s\"><div class=\"hJND5c\" style=\"margin-bottom:2px\"><cite>https://en.<b>wikipedia</b>.org/<b>wiki</b>/Bloomsbury,_<b>New</b>_<b>Jersey</b></cite><div class=\"Pj9hGd\"><div aria-expanded=\"false\" aria-haspopup=\"true\" data-ved=\"0ahUKEwjWi-rXlKzaAhVKx1kKHeB_DPcQ7B0IIzAC\" onclick=\"google.sham(this);\" style=\"display:inline\" tabindex=\"0\"><span class=\"CiacGf\"></span></div><div class=\"am-dropdown-menu\" role=\"menu\" style=\"display:none\" tabindex=\"-1\"><ul><li class=\"mUpfKd\"><a class=\"imx0m\" href=\"/url?q=http://webcache.googleusercontent.com/search%3Fq%3Dcache:LQ6HQG2rqkQJ:https://en.wikipedia.org/wiki/Bloomsbury,_New_Jersey%252BMatapan%2BNew%2BJersey%2Bwiki%26hl%3Den%26ct%3Dclnk&amp;sa=U&amp;ved=0ahUKEwjWi-rXlKzaAhVKx1kKHeB_DPcQIAglMAI&amp;usg=AOvVaw3RqC1a3X2MZ2WhpctVCLEe\">Cached</a></li><li class=\"mUpfKd\"><a class=\"imx0m\" href=\"/search?ie=UTF-8&amp;q=related:https://en.wikipedia.org/wiki/Bloomsbury,_New_Jersey+Matapan+New+Jersey+wiki&amp;tbo=1&amp;sa=X&amp;ved=0ahUKEwjWi-rXlKzaAhVKx1kKHeB_DPcQHwgmMAI\">Similar</a></li></ul></div></div></div><span class=\"st\">Bloomsbury is a borough in Hunterdon County, <b>New Jersey</b>, United States. As of <br/>\n",
       "the 2010 United States Census, the borough's population was 870, reflecting a <br/>\n",
       "decline of 16 (-1.8%) from the 886 counted in the 2000 Census, which had in turn <br/>\n",
       "declined by 4 (-0.4%) from the 890 counted in the 1990 Census. Bloomsbury was<br/>\n",
       " ...</span><br/></div></div><div class=\"g\"><h3 class=\"r\"><a href=\"/url?q=https://en.wikipedia.org/wiki/List_of_shipwrecks_in_October_1918&amp;sa=U&amp;ved=0ahUKEwjWi-rXlKzaAhVKx1kKHeB_DPcQFggoMAM&amp;usg=AOvVaw1WKB1mU4GsHn9ToSQQygZz\">List of shipwrecks in October 1918 - <b>Wikipedia</b></a></h3><div class=\"s\"><div class=\"hJND5c\" style=\"margin-bottom:2px\"><cite>https://en.<b>wikipedia</b>.org/<b>wiki</b>/List_of_shipwrecks_in_October_1918</cite><div class=\"Pj9hGd\"><div aria-expanded=\"false\" aria-haspopup=\"true\" data-ved=\"0ahUKEwjWi-rXlKzaAhVKx1kKHeB_DPcQ7B0IKTAD\" onclick=\"google.sham(this);\" style=\"display:inline\" tabindex=\"0\"><span class=\"CiacGf\"></span></div><div class=\"am-dropdown-menu\" role=\"menu\" style=\"display:none\" tabindex=\"-1\"><ul><li class=\"mUpfKd\"><a class=\"imx0m\" href=\"/url?q=http://webcache.googleusercontent.com/search%3Fq%3Dcache:HlWDIv5ttAAJ:https://en.wikipedia.org/wiki/List_of_shipwrecks_in_October_1918%252BMatapan%2BNew%2BJersey%2Bwiki%26hl%3Den%26ct%3Dclnk&amp;sa=U&amp;ved=0ahUKEwjWi-rXlKzaAhVKx1kKHeB_DPcQIAgrMAM&amp;usg=AOvVaw3mWeuT-mfjr7b6zN-qD3lz\">Cached</a></li><li class=\"mUpfKd\"><a class=\"imx0m\" href=\"/search?ie=UTF-8&amp;q=related:https://en.wikipedia.org/wiki/List_of_shipwrecks_in_October_1918+Matapan+New+Jersey+wiki&amp;tbo=1&amp;sa=X&amp;ved=0ahUKEwjWi-rXlKzaAhVKx1kKHeB_DPcQHwgsMAM\">Similar</a></li></ul></div></div></div><span class=\"st\">The list of shipwrecks in October 1918 includes ships sunk, foundered, grounded, <br/>\n",
       "or otherwise lost during October 1918. October 1918. Mon, Tue, Wed, Thu, Fri, <br/>\n",
       "Sat, Sun. Unknown date · 1 · 2 · 3 · 4 · 5 · 6 · 7 · 8 · 9 · 10 · 11 · 12 · 13 · 14 · 15 · 16 <br/>\n",
       "· 17 · 18 · 19 · 20 · 21, 22. 23, 24, 25, 26, 27 · 28 · 29 · 30 · 31. 1 October[edit] ...</span><br/></div></div><div class=\"g\"><h3 class=\"r\"><a href=\"/url?q=http://www.peakbagger.com/peak.aspx%3Fpid%3D32619&amp;sa=U&amp;ved=0ahUKEwjWi-rXlKzaAhVKx1kKHeB_DPcQFgguMAQ&amp;usg=AOvVaw2DabzPxedg842hHzlDM56V\"><b>Matapan</b> Rock - Peakbagger.com</a></h3><div class=\"s\"><div class=\"hJND5c\" style=\"margin-bottom:2px\"><cite>www.peakbagger.com/peak.aspx?pid=32619</cite><div class=\"Pj9hGd\"><div aria-expanded=\"false\" aria-haspopup=\"true\" data-ved=\"0ahUKEwjWi-rXlKzaAhVKx1kKHeB_DPcQ7B0ILzAE\" onclick=\"google.sham(this);\" style=\"display:inline\" tabindex=\"0\"><span class=\"CiacGf\"></span></div><div class=\"am-dropdown-menu\" role=\"menu\" style=\"display:none\" tabindex=\"-1\"><ul><li class=\"mUpfKd\"><a class=\"imx0m\" href=\"/url?q=http://webcache.googleusercontent.com/search%3Fq%3Dcache:NVabX9PS5-IJ:http://www.peakbagger.com/peak.aspx%3Fpid%253D32619%252BMatapan%2BNew%2BJersey%2Bwiki%26hl%3Den%26ct%3Dclnk&amp;sa=U&amp;ved=0ahUKEwjWi-rXlKzaAhVKx1kKHeB_DPcQIAgxMAQ&amp;usg=AOvVaw3bd1hz1ln0gFDggSv5cSLB\">Cached</a></li></ul></div></div></div><span class=\"st\">Latitude/Longitude (WGS84), 41° 4' 9'' N, 74° 14' 55'' W 41.069161, -74.24861 (<br/>\n",
       "Dec Deg) 563127 E 4546707 N, Zone 18 (UTM). Country, United States. State/<br/>\n",
       "Province, <b>New Jersey</b>. County/Second Level Region, Passaic. City/Town, <br/>\n",
       "Ringwood. Links Search Engines - search the web for \"<b>Matapan</b> Rock\": <br/>\n",
       "<b>Wikipedia</b> Search</span><br/></div></div><div class=\"g\"><h3 class=\"r\"><a href=\"/url?q=https://encyclopedia2.thefreedictionary.com/Cape%2BMatapan&amp;sa=U&amp;ved=0ahUKEwjWi-rXlKzaAhVKx1kKHeB_DPcQFggzMAU&amp;usg=AOvVaw3BucOWNoafQYpN72Dw9Szm\">Cape <b>Matapan</b> | Article about Cape <b>Matapan</b> by The Free Dictionary</a></h3><div class=\"s\"><div class=\"hJND5c\" style=\"margin-bottom:2px\"><cite>https://encyclopedia2.thefreedictionary.com/Cape+<b>Matapan</b></cite><div class=\"Pj9hGd\"><div aria-expanded=\"false\" aria-haspopup=\"true\" data-ved=\"0ahUKEwjWi-rXlKzaAhVKx1kKHeB_DPcQ7B0INDAF\" onclick=\"google.sham(this);\" style=\"display:inline\" tabindex=\"0\"><span class=\"CiacGf\"></span></div><div class=\"am-dropdown-menu\" role=\"menu\" style=\"display:none\" tabindex=\"-1\"><ul><li class=\"mUpfKd\"><a class=\"imx0m\" href=\"/url?q=http://webcache.googleusercontent.com/search%3Fq%3Dcache:gIw2iZjdt4AJ:https://encyclopedia2.thefreedictionary.com/Cape%252BMatapan%252BMatapan%2BNew%2BJersey%2Bwiki%26hl%3Den%26ct%3Dclnk&amp;sa=U&amp;ved=0ahUKEwjWi-rXlKzaAhVKx1kKHeB_DPcQIAg2MAU&amp;usg=AOvVaw238nYBBW9Hpou7g2FTrbJI\">Cached</a></li></ul></div></div></div><span class=\"st\">Find out information about Cape <b>Matapan</b>. a cape <b>on the</b> Peloponnesus, in <br/>\n",
       "Greece, formed by a ridge of Mount Taygetus. ... Also found in: Dictionary, <br/>\n",
       "<b>Wikipedia</b>. ... In March 1941, he was searchlight control ocer <b>on the</b> battleship <br/>\n",
       "HMS Valiant and was mentioned in dispatches for his part in the battle of Cape <br/>\n",
       "<b>Matapan</b> against ...</span><br/></div></div><div class=\"g\"><h3 class=\"r\"><a href=\"/url?q=https://encyclopedia2.thefreedictionary.com/Cape%2BMay%2BCounty%252C%2BNew%2BJersey&amp;sa=U&amp;ved=0ahUKEwjWi-rXlKzaAhVKx1kKHeB_DPcQFgg4MAY&amp;usg=AOvVaw0gC1C1vTwHzcsKn3JYuE6z\">Cape May County, <b>New Jersey</b> - Encyclopedia2.thefreedictionary ...</a></h3><div class=\"s\"><div class=\"hJND5c\" style=\"margin-bottom:2px\"><cite>https://encyclopedia2.thefreedictionary.com/Cape+May+County%2C+<b>New</b>+ <b>Jersey</b></cite><div class=\"Pj9hGd\"><div aria-expanded=\"false\" aria-haspopup=\"true\" data-ved=\"0ahUKEwjWi-rXlKzaAhVKx1kKHeB_DPcQ7B0IOTAG\" onclick=\"google.sham(this);\" style=\"display:inline\" tabindex=\"0\"><span class=\"CiacGf\"></span></div><div class=\"am-dropdown-menu\" role=\"menu\" style=\"display:none\" tabindex=\"-1\"><ul><li class=\"mUpfKd\"><a class=\"imx0m\" href=\"/url?q=http://webcache.googleusercontent.com/search%3Fq%3Dcache:p19_JaweCMcJ:https://encyclopedia2.thefreedictionary.com/Cape%252BMay%252BCounty%25252C%252BNew%252BJersey%252BMatapan%2BNew%2BJersey%2Bwiki%26hl%3Den%26ct%3Dclnk&amp;sa=U&amp;ved=0ahUKEwjWi-rXlKzaAhVKx1kKHeB_DPcQIAg7MAY&amp;usg=AOvVaw1P_VabVHWo1RonLjFLFt23\">Cached</a></li></ul></div></div></div><span class=\"st\">Looking for Cape May County, <b>New Jersey</b>? Find out information about Cape <br/>\n",
       "May County, <b>New Jersey</b>. 7 N Main St PO Box 5000 Cape May Court House, <b>NJ</b> <br/>\n",
       "08210 Phone: 465-1010 Fax: 465-8625 www.capemaycountygov.net On <br/>\n",
       "southern tip of <b>NJ</b>, south of Atlantic City;... Explanation of Cape May County, <b>New</b> <br/>\n",
       "<b>Jersey</b>.</span><br/></div></div><div class=\"g\"><h3 class=\"r\"><a href=\"/url?q=https://www.thefreedictionary.com/Cape%2BMatapan&amp;sa=U&amp;ved=0ahUKEwjWi-rXlKzaAhVKx1kKHeB_DPcQFgg9MAc&amp;usg=AOvVaw0xG5dzSpRZ6WIsE1YUb8_f\">Cape <b>Matapan</b> - <b>definition</b> of Cape <b>Matapan</b> by The Free Dictionary</a></h3><div class=\"s\"><div class=\"hJND5c\" style=\"margin-bottom:2px\"><cite>https://www.thefreedictionary.com/Cape+<b>Matapan</b></cite><div class=\"Pj9hGd\"><div aria-expanded=\"false\" aria-haspopup=\"true\" data-ved=\"0ahUKEwjWi-rXlKzaAhVKx1kKHeB_DPcQ7B0IPjAH\" onclick=\"google.sham(this);\" style=\"display:inline\" tabindex=\"0\"><span class=\"CiacGf\"></span></div><div class=\"am-dropdown-menu\" role=\"menu\" style=\"display:none\" tabindex=\"-1\"><ul><li class=\"mUpfKd\"><a class=\"imx0m\" href=\"/url?q=http://webcache.googleusercontent.com/search%3Fq%3Dcache:JWLFOekC7LEJ:https://www.thefreedictionary.com/Cape%252BMatapan%252BMatapan%2BNew%2BJersey%2Bwiki%26hl%3Den%26ct%3Dclnk&amp;sa=U&amp;ved=0ahUKEwjWi-rXlKzaAhVKx1kKHeB_DPcQIAhAMAc&amp;usg=AOvVaw0ctGC7lfDT1-0D0DmL7y7E\">Cached</a></li></ul></div></div></div><span class=\"st\">Define Cape <b>Matapan</b>. Cape <b>Matapan</b> synonyms, Cape <b>Matapan</b> pronunciation, <br/>\n",
       "Cape <b>Matapan</b> translation, English dictionary <b>definition</b> of Cape <b>Matapan</b>. Cape <br/>\n",
       "Formerly Cape Mat·a·pan A cape <b>at the</b> southernmost point of mainland Greece. <br/>\n",
       "The British won an important naval battle against the Italians off Cape...</span><br/></div></div><div class=\"g\"><h3 class=\"r\"><a href=\"/url?q=https://www.geocaching.com/seek/cache_details.aspx%3Fguid%3Dc4e02c7b-32d3-4d49-93bc-5df347df5b69&amp;sa=U&amp;ved=0ahUKEwjWi-rXlKzaAhVKx1kKHeB_DPcQFghCMAg&amp;usg=AOvVaw3WAS2VPwLk57Kaq3RuUME4\">GC6776 Hiker Series: Cache 7 - <b>Matapan</b> Rock (Traditional Cache ...</a></h3><div class=\"s\"><div class=\"hJND5c\" style=\"margin-bottom:2px\"><cite>https://www.geocaching.com/seek/cache_details.aspx?guid...</cite><div class=\"Pj9hGd\"><div aria-expanded=\"false\" aria-haspopup=\"true\" data-ved=\"0ahUKEwjWi-rXlKzaAhVKx1kKHeB_DPcQ7B0IQzAI\" onclick=\"google.sham(this);\" style=\"display:inline\" tabindex=\"0\"><span class=\"CiacGf\"></span></div><div class=\"am-dropdown-menu\" role=\"menu\" style=\"display:none\" tabindex=\"-1\"><ul><li class=\"mUpfKd\"><a class=\"imx0m\" href=\"/url?q=http://webcache.googleusercontent.com/search%3Fq%3Dcache:BYwY4JhqAZQJ:https://www.geocaching.com/seek/cache_details.aspx%3Fguid%253Dc4e02c7b-32d3-4d49-93bc-5df347df5b69%252BMatapan%2BNew%2BJersey%2Bwiki%26hl%3Den%26ct%3Dclnk&amp;sa=U&amp;ved=0ahUKEwjWi-rXlKzaAhVKx1kKHeB_DPcQIAhFMAg&amp;usg=AOvVaw1Mgd6-e2LmT15BxpDu-soR\">Cached</a></li></ul></div></div></div><span class=\"st\">Nov 15, 2017 <b>...</b> OReviewer: From the Northern Region Office, <b>New Jersey</b> State Parks <br/>\n",
       "Department: ... Hiker Series: Cache 7 - <b>Matapan</b> Rock. A cache by ... After finding <br/>\n",
       "Cache 3, continue on the Schuber/Yellow trail, then make a left left onto the Old <br/>\n",
       "Guard trail (white blaze with green leaf in center) and continue to Cache 4.</span><br/></div></div><div class=\"g\"><h3 class=\"r\"><a href=\"/url?q=https://www.geocaching.com/seek/log.aspx%3FLUID%3D6f2c4659-34c7-423b-bc1f-6d8449ecd4e1&amp;sa=U&amp;ved=0ahUKEwjWi-rXlKzaAhVKx1kKHeB_DPcQFghIMAk&amp;usg=AOvVaw2NZAsiTjYAAcIxHgd6g0jZ\">Geocaching - Log by Geocaching HQ Admin for Hiker Series: Cache ...</a></h3><div class=\"s\"><div class=\"hJND5c\" style=\"margin-bottom:2px\"><cite>https://www.geocaching.com/seek/log.aspx?LUID=6f2c4659...</cite><div class=\"Pj9hGd\"><div aria-expanded=\"false\" aria-haspopup=\"true\" data-ved=\"0ahUKEwjWi-rXlKzaAhVKx1kKHeB_DPcQ7B0ISTAJ\" onclick=\"google.sham(this);\" style=\"display:inline\" tabindex=\"0\"><span class=\"CiacGf\"></span></div><div class=\"am-dropdown-menu\" role=\"menu\" style=\"display:none\" tabindex=\"-1\"><ul><li class=\"mUpfKd\"><a class=\"imx0m\" href=\"/url?q=http://webcache.googleusercontent.com/search%3Fq%3Dcache:NxdZjP_Lt9UJ:https://www.geocaching.com/seek/log.aspx%3FLUID%253D6f2c4659-34c7-423b-bc1f-6d8449ecd4e1%252BMatapan%2BNew%2BJersey%2Bwiki%26hl%3Den%26ct%3Dclnk&amp;sa=U&amp;ved=0ahUKEwjWi-rXlKzaAhVKx1kKHeB_DPcQIAhLMAk&amp;usg=AOvVaw0BtRNWwY9_1S8p_XjjYP1q\">Cached</a></li></ul></div></div></div><span class=\"st\">Geocaching HQ Admin posted a reviewer note for Hiker Series: Cache 7 - <br/>\n",
       "<b>Matapan</b> Rock. Thursday, May 7, 2015<b>New Jersey</b>. Hello,. This is an <br/>\n",
       "informational note to let you know that <b>New Jersey</b> State Parks and Forests have <br/>\n",
       "instituted a geocaching management policy, effective May 31, 2015. This new <br/>\n",
       "policy requires that ...</span><br/></div></div></ol></div></div></div><div style=\"clear:both;margin-bottom:17px;overflow:hidden\"><div style=\"font-size:16px;padding:0 8px 1px\">Searches related to <b>Matapan New Jersey wiki</b></div><table border=\"0\" cellpadding=\"0\" cellspacing=\"0\"><tbody><tr><td valign=\"top\"><p class=\"aw5cc\" style=\"margin:3px 8px\"><a href=\"/search?ie=UTF-8&amp;q=landing+nj&amp;sa=X&amp;ved=0ahUKEwjWi-rXlKzaAhVKx1kKHeB_DPcQ1QIITigA\"><b>landing nj</b></a></p></td><td style=\"padding-left:10px\" valign=\"top\"><p class=\"aw5cc\" style=\"margin:3px 8px\"><a href=\"/search?ie=UTF-8&amp;q=landing+nj+directions&amp;sa=X&amp;ved=0ahUKEwjWi-rXlKzaAhVKx1kKHeB_DPcQ1QIITygB\"><b>landing nj directions</b></a></p></td></tr><tr><td valign=\"top\"><p class=\"aw5cc\" style=\"margin:3px 8px\"><a href=\"/search?ie=UTF-8&amp;q=landing+township+nj&amp;sa=X&amp;ved=0ahUKEwjWi-rXlKzaAhVKx1kKHeB_DPcQ1QIIUCgC\"><b>landing township nj</b></a></p></td><td style=\"padding-left:10px\" valign=\"top\"><p class=\"aw5cc\" style=\"margin:3px 8px\"><a href=\"/search?ie=UTF-8&amp;q=landing+new+jersey+events&amp;sa=X&amp;ved=0ahUKEwjWi-rXlKzaAhVKx1kKHeB_DPcQ1QIIUSgD\"><b>landing</b> new jersey <b>events</b></a></p></td></tr><tr><td valign=\"top\"><p class=\"aw5cc\" style=\"margin:3px 8px\"><a href=\"/search?ie=UTF-8&amp;q=landing+nj+map&amp;sa=X&amp;ved=0ahUKEwjWi-rXlKzaAhVKx1kKHeB_DPcQ1QIIUigE\"><b>landing nj map</b></a></p></td><td style=\"padding-left:10px\" valign=\"top\"><p class=\"aw5cc\" style=\"margin:3px 8px\"><a href=\"/search?ie=UTF-8&amp;q=roxbury+nj+wiki&amp;sa=X&amp;ved=0ahUKEwjWi-rXlKzaAhVKx1kKHeB_DPcQ1QIIUygF\"><b>roxbury nj</b> wiki</a></p></td></tr><tr><td valign=\"top\"><p class=\"aw5cc\" style=\"margin:3px 8px\"><a href=\"/search?ie=UTF-8&amp;q=landing+nj+county&amp;sa=X&amp;ved=0ahUKEwjWi-rXlKzaAhVKx1kKHeB_DPcQ1QIIVCgG\"><b>landing nj county</b></a></p></td><td style=\"padding-left:10px\" valign=\"top\"><p class=\"aw5cc\" style=\"margin:3px 8px\"><a href=\"/search?ie=UTF-8&amp;q=landing+nj+homes+for+sale&amp;sa=X&amp;ved=0ahUKEwjWi-rXlKzaAhVKx1kKHeB_DPcQ1QIIVSgH\"><b>landing nj homes for sale</b></a></p></td></tr></tbody></table></div></div><div id=\"foot\"><table align=\"center\" border=\"0\" cellpadding=\"0\" cellspacing=\"0\" id=\"nav\"><tbody><tr valign=\"top\"><td align=\"left\" class=\"b\"><span class=\"csb\" style=\"background-position:-24px 0;width:28px\"></span><b></b></td><td><span class=\"csb\" style=\"background-position:-53px 0;width:20px\"></span><b>1</b></td><td><a class=\"fl\" href=\"/search?q=Matapan+New+Jersey+wiki&amp;ie=UTF-8&amp;prmd=ivns&amp;ei=AtLKWtaCDsqO5wLg_7G4Dw&amp;start=10&amp;sa=N\"><span class=\"csb\" style=\"background-position:-74px 0;width:20px\"></span>2</a></td><td><a class=\"fl\" href=\"/search?q=Matapan+New+Jersey+wiki&amp;ie=UTF-8&amp;prmd=ivns&amp;ei=AtLKWtaCDsqO5wLg_7G4Dw&amp;start=20&amp;sa=N\"><span class=\"csb\" style=\"background-position:-74px 0;width:20px\"></span>3</a></td><td><a class=\"fl\" href=\"/search?q=Matapan+New+Jersey+wiki&amp;ie=UTF-8&amp;prmd=ivns&amp;ei=AtLKWtaCDsqO5wLg_7G4Dw&amp;start=30&amp;sa=N\"><span class=\"csb\" style=\"background-position:-74px 0;width:20px\"></span>4</a></td><td><a class=\"fl\" href=\"/search?q=Matapan+New+Jersey+wiki&amp;ie=UTF-8&amp;prmd=ivns&amp;ei=AtLKWtaCDsqO5wLg_7G4Dw&amp;start=40&amp;sa=N\"><span class=\"csb\" style=\"background-position:-74px 0;width:20px\"></span>5</a></td><td><a class=\"fl\" href=\"/search?q=Matapan+New+Jersey+wiki&amp;ie=UTF-8&amp;prmd=ivns&amp;ei=AtLKWtaCDsqO5wLg_7G4Dw&amp;start=50&amp;sa=N\"><span class=\"csb\" style=\"background-position:-74px 0;width:20px\"></span>6</a></td><td><a class=\"fl\" href=\"/search?q=Matapan+New+Jersey+wiki&amp;ie=UTF-8&amp;prmd=ivns&amp;ei=AtLKWtaCDsqO5wLg_7G4Dw&amp;start=60&amp;sa=N\"><span class=\"csb\" style=\"background-position:-74px 0;width:20px\"></span>7</a></td><td><a class=\"fl\" href=\"/search?q=Matapan+New+Jersey+wiki&amp;ie=UTF-8&amp;prmd=ivns&amp;ei=AtLKWtaCDsqO5wLg_7G4Dw&amp;start=70&amp;sa=N\"><span class=\"csb\" style=\"background-position:-74px 0;width:20px\"></span>8</a></td><td><a class=\"fl\" href=\"/search?q=Matapan+New+Jersey+wiki&amp;ie=UTF-8&amp;prmd=ivns&amp;ei=AtLKWtaCDsqO5wLg_7G4Dw&amp;start=80&amp;sa=N\"><span class=\"csb\" style=\"background-position:-74px 0;width:20px\"></span>9</a></td><td><a class=\"fl\" href=\"/search?q=Matapan+New+Jersey+wiki&amp;ie=UTF-8&amp;prmd=ivns&amp;ei=AtLKWtaCDsqO5wLg_7G4Dw&amp;start=90&amp;sa=N\"><span class=\"csb\" style=\"background-position:-74px 0;width:20px\"></span>10</a></td><td class=\"b\" style=\"text-align:left\"><a class=\"fl\" href=\"/search?q=Matapan+New+Jersey+wiki&amp;ie=UTF-8&amp;prmd=ivns&amp;ei=AtLKWtaCDsqO5wLg_7G4Dw&amp;start=10&amp;sa=N\" style=\"text-align:left\"><span class=\"csb\" style=\"background-position:-96px 0;width:71px\"></span><span style=\"display:block;margin-left:53px\">Next</span></a></td></tr></tbody></table><p class=\"A8ul6\" id=\"bfl\" style=\"margin:19px 0 0;text-align:center\"><a href=\"/advanced_search?q=Matapan+New+Jersey+wiki&amp;ie=UTF-8&amp;prmd=ivns\">Advanced search</a><a href=\"/support/websearch/bin/answer.py?answer=134479&amp;hl=en\">Search Help</a> <a href=\"/tools/feedback/survey/html?productId=196&amp;query=Matapan+New+Jersey+wiki&amp;hl=en\">Send feedback</a></p><div class=\"A8ul6\" id=\"fll\" style=\"margin:19px auto 19px auto;text-align:center\"><a href=\"/\">Google Home</a> <a href=\"/intl/en/ads\">Advertising Programs</a> <a href=\"/services\">Business Solutions</a> <a href=\"/intl/en/policies/privacy/\">Privacy</a> <a href=\"/intl/en/policies/terms/\">Terms</a> <a href=\"/intl/en/about.html\">About Google</a></div></div></td><td id=\"rhs_block\" valign=\"top\"></td></tr></tbody></table><script nonce=\"PbTTH1Um+xBHvqdj7p9YIg==\" type=\"text/javascript\">(function(){var eventid='AtLKWtaCDsqO5wLg_7G4Dw';google.kEI = eventid;})();</script><script nonce=\"PbTTH1Um+xBHvqdj7p9YIg==\" src=\"/xjs/_/js/k=xjs.hp.en_US.iwMXH3MSrcU.O/m=sb_he,d/rt=j/d=1/t=zcms/rs=ACT90oG411W35jRzju1EmIEpPUvtbEQ_nA\"></script><script nonce=\"PbTTH1Um+xBHvqdj7p9YIg==\" type=\"text/javascript\">google.ac&&google.ac.c({\"agen\":true,\"cgen\":true,\"client\":\"heirloom-serp\",\"dh\":true,\"dhqt\":true,\"ds\":\"\",\"ffql\":\"en\",\"fl\":true,\"host\":\"google.com.tr\",\"isbh\":28,\"jsonp\":true,\"msgs\":{\"cibl\":\"Clear Search\",\"dym\":\"Did you mean:\",\"lcky\":\"I\\u0026#39;m Feeling Lucky\",\"lml\":\"Learn more\",\"oskt\":\"Input tools\",\"psrc\":\"This search was removed from your \\u003Ca href=\\\"/history\\\"\\u003EWeb History\\u003C/a\\u003E\",\"psrl\":\"Remove\",\"sbit\":\"Search by image\",\"srch\":\"Google Search\"},\"nds\":true,\"ovr\":{},\"pq\":\"Matapan New Jersey wiki\",\"refpd\":true,\"rfs\":[\"landing nj\",\"landing township nj\",\"landing nj map\",\"landing nj county\",\"landing nj directions\",\"landing new jersey events\",\"roxbury nj wiki\",\"landing nj homes for sale\"],\"sbpl\":24,\"sbpr\":24,\"scd\":10,\"sce\":5,\"stok\":\"JIcXgWp8lEL5RRaUf9z8Dob92ww\"})</script><script nonce=\"PbTTH1Um+xBHvqdj7p9YIg==\">(function(){window.google.cdo={height:0,width:0};(function(){var a=window.innerWidth,b=window.innerHeight;if(!a||!b){var c=window.document,d=\"CSS1Compat\"==c.compatMode?c.documentElement:c.body;a=d.clientWidth;b=d.clientHeight}a&&b&&(a!=google.cdo.width||b!=google.cdo.height)&&google.log(\"\",\"\",\"/client_204?&atyp=i&biw=\"+a+\"&bih=\"+b+\"&ei=\"+google.kEI);}).call(this);})();</script></body></html>"
      ]
     },
     "execution_count": 37,
     "metadata": {},
     "output_type": "execute_result"
    }
   ],
   "source": [
    "soup"
   ]
  },
  {
   "cell_type": "code",
   "execution_count": null,
   "metadata": {},
   "outputs": [],
   "source": []
  }
 ],
 "metadata": {
  "kernelspec": {
   "display_name": "Python 3",
   "language": "python",
   "name": "python3"
  },
  "language_info": {
   "codemirror_mode": {
    "name": "ipython",
    "version": 3
   },
   "file_extension": ".py",
   "mimetype": "text/x-python",
   "name": "python",
   "nbconvert_exporter": "python",
   "pygments_lexer": "ipython3",
   "version": "3.6.5"
  }
 },
 "nbformat": 4,
 "nbformat_minor": 2
}
