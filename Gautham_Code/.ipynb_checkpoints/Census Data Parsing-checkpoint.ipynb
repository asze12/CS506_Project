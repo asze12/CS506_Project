{
 "cells": [
  {
   "cell_type": "code",
   "execution_count": 1,
   "metadata": {},
   "outputs": [],
   "source": [
    "import pandas as pd\n",
    "from bs4 import BeautifulSoup\n",
    "import requests\n",
    "import time"
   ]
  },
  {
   "cell_type": "code",
   "execution_count": 65,
   "metadata": {},
   "outputs": [],
   "source": [
    "Consensus_page = requests.get('https://www.census.gov/quickfacts/MA')\n",
    "soup = BeautifulSoup(Consensus_page.text,'html5lib')"
   ]
  },
  {
   "cell_type": "code",
   "execution_count": 66,
   "metadata": {},
   "outputs": [],
   "source": [
    "pop = soup.find('tbody', attrs = {'data-topic': 'Population'}).find('td', attrs = {'data-isnumeric': '1'})"
   ]
  },
  {
   "cell_type": "code",
   "execution_count": 67,
   "metadata": {},
   "outputs": [
    {
     "data": {
      "text/plain": [
       "'6,859,819'"
      ]
     },
     "execution_count": 67,
     "metadata": {},
     "output_type": "execute_result"
    }
   ],
   "source": [
    "pop.text.strip()"
   ]
  },
  {
   "cell_type": "code",
   "execution_count": 68,
   "metadata": {},
   "outputs": [],
   "source": [
    "all_race = soup.find('tbody', attrs = {'data-topic': 'Race and Hispanic Origin'}).find_all('td', attrs = {'data-isnumeric': '1'})"
   ]
  },
  {
   "cell_type": "code",
   "execution_count": 77,
   "metadata": {},
   "outputs": [
    {
     "name": "stdout",
     "output_type": "stream",
     "text": [
      "8.6\n",
      "0.5\n",
      "6.7\n",
      "0.1\n",
      "2.3\n",
      "11.5\n",
      "73.0\n"
     ]
    }
   ],
   "source": [
    "for r in all_race[1:]:\n",
    "    print(float(r.text.strip()[:-1]))"
   ]
  },
  {
   "cell_type": "code",
   "execution_count": 70,
   "metadata": {},
   "outputs": [],
   "source": [
    "education = soup.find('tbody', attrs = {'data-topic': 'Education'}).find_all('td', attrs = {'data-isnumeric': '1'})"
   ]
  },
  {
   "cell_type": "code",
   "execution_count": 71,
   "metadata": {},
   "outputs": [
    {
     "name": "stdout",
     "output_type": "stream",
     "text": [
      "90.1\n",
      "41.2\n"
     ]
    }
   ],
   "source": [
    "for x in education:\n",
    "    print(float(x.text.strip()[:-1]))"
   ]
  },
  {
   "cell_type": "code",
   "execution_count": 89,
   "metadata": {},
   "outputs": [],
   "source": [
    "economics = soup.find('tbody', attrs = {'data-topic': 'Income & Poverty'}).find_all('td', attrs = {'data-isnumeric': '1'})"
   ]
  },
  {
   "cell_type": "code",
   "execution_count": 91,
   "metadata": {},
   "outputs": [
    {
     "name": "stdout",
     "output_type": "stream",
     "text": [
      "3\n",
      "$44,758\n",
      "\n",
      "$24,736\n",
      "\n",
      "\n",
      "17.1%\n",
      "\n"
     ]
    }
   ],
   "source": [
    "print(len(economics))\n",
    "for x in economics:\n",
    "    print(x.text.strip())\n",
    "    print()"
   ]
  },
  {
   "cell_type": "code",
   "execution_count": 74,
   "metadata": {},
   "outputs": [],
   "source": [
    "pop_den = soup.find('tbody', attrs = {'data-topic': 'Geography'}).find_all('td', attrs = {'data-isnumeric': '1'})"
   ]
  },
  {
   "cell_type": "code",
   "execution_count": 75,
   "metadata": {},
   "outputs": [
    {
     "data": {
      "text/plain": [
       "'839.4'"
      ]
     },
     "execution_count": 75,
     "metadata": {},
     "output_type": "execute_result"
    }
   ],
   "source": [
    "pop_den[0].text.strip()"
   ]
  },
  {
   "cell_type": "markdown",
   "metadata": {},
   "source": [
    "# Parsing States Pages for Data"
   ]
  },
  {
   "cell_type": "code",
   "execution_count": 79,
   "metadata": {},
   "outputs": [],
   "source": [
    "states = [\"AL\", \"AK\", \"AZ\", \"AR\", \"CA\", \"CO\", \"CT\", \"DC\", \"DE\", \"FL\", \"GA\", \n",
    "          \"HI\", \"ID\", \"IL\", \"IN\", \"IA\", \"KS\", \"KY\", \"LA\", \"ME\", \"MD\", \n",
    "          \"MA\", \"MI\", \"MN\", \"MS\", \"MO\", \"MT\", \"NE\", \"NV\", \"NH\", \"NJ\", \n",
    "          \"NM\", \"NY\", \"NC\", \"ND\", \"OH\", \"OK\", \"OR\", \"PA\", \"RI\", \"SC\", \n",
    "          \"SD\", \"TN\", \"TX\", \"UT\", \"VT\", \"VA\", \"WA\", \"WV\", \"WI\", \"WY\"]\n",
    "\n",
    "sample_link = 'https://www.census.gov/quickfacts/{}'"
   ]
  },
  {
   "cell_type": "code",
   "execution_count": 94,
   "metadata": {},
   "outputs": [
    {
     "name": "stdout",
     "output_type": "stream",
     "text": [
      "AL is Finished\n",
      "AK is Finished\n",
      "AZ is Finished\n",
      "AR is Finished\n",
      "CA is Finished\n",
      "CO is Finished\n",
      "CT is Finished\n",
      "DC is Finished\n",
      "DE is Finished\n",
      "FL is Finished\n",
      "GA is Finished\n",
      "HI is Finished\n",
      "ID is Finished\n",
      "IL is Finished\n",
      "IN is Finished\n",
      "IA is Finished\n",
      "KS is Finished\n",
      "KY is Finished\n",
      "LA is Finished\n",
      "ME is Finished\n",
      "MD is Finished\n",
      "MA is Finished\n",
      "MI is Finished\n",
      "MN is Finished\n",
      "MS is Finished\n",
      "MO is Finished\n",
      "MT is Finished\n",
      "NE is Finished\n",
      "NV is Finished\n",
      "NH is Finished\n",
      "NJ is Finished\n",
      "NM is Finished\n",
      "NY is Finished\n",
      "NC is Finished\n",
      "ND is Finished\n",
      "OH is Finished\n",
      "OK is Finished\n",
      "OR is Finished\n",
      "PA is Finished\n",
      "RI is Finished\n",
      "SC is Finished\n",
      "SD is Finished\n",
      "TN is Finished\n",
      "TX is Finished\n",
      "UT is Finished\n",
      "VT is Finished\n",
      "VA is Finished\n",
      "WA is Finished\n",
      "WV is Finished\n",
      "WI is Finished\n",
      "WY is Finished\n"
     ]
    }
   ],
   "source": [
    "all_states_data = []\n",
    "\n",
    "for st in states:\n",
    "    \n",
    "    each_state = []\n",
    "    link = sample_link.format(st)\n",
    "    Consensus_page = requests.get(link)\n",
    "    soup = BeautifulSoup(Consensus_page.text,'html5lib')\n",
    "    \n",
    "    pop = soup.find('tbody', attrs = {'data-topic': 'Population'}).find('td', attrs = {'data-isnumeric': '1'})\n",
    "    each_state.append(st)\n",
    "    \n",
    "    each_state.append(int(pop.text.strip().replace(',','')))\n",
    "    \n",
    "    pop_den = soup.find('tbody', attrs = {'data-topic': 'Geography'}).find_all('td', attrs = {'data-isnumeric': '1'})\n",
    "    \n",
    "    each_state.append(float(pop_den[0].text.strip().replace(',','')))\n",
    "    \n",
    "    education = soup.find('tbody', attrs = {'data-topic': 'Education'}).find_all('td', attrs = {'data-isnumeric': '1'})\n",
    "    \n",
    "    for edu in education:\n",
    "        each_state.append(float(edu.text.strip()[:-1].replace(',','')))\n",
    "        \n",
    "    economics = soup.find('tbody', attrs = {'data-topic': 'Income & Poverty'}).find_all('td', attrs = {'data-isnumeric': '1'})\n",
    "    \n",
    "    each_state.append(float(economics[0].text.strip()[1:].replace(',','')))\n",
    "    each_state.append(float(economics[1].text.strip()[1:].replace(',','')))\n",
    "    each_state.append(float(economics[2].text.strip()[2:-1].replace(',','')))\n",
    "    \n",
    "    all_race = soup.find('tbody', attrs = {'data-topic': 'Race and Hispanic Origin'}).find_all('td', attrs = {'data-isnumeric': '1'})\n",
    "    \n",
    "    for r in all_race[1:]:\n",
    "        each_state.append(float(r.text.strip()[:-1].replace(',','')))\n",
    "    \n",
    "    all_states_data.append(each_state)\n",
    "    print(st, 'is Finished')\n",
    "    time.sleep(3)"
   ]
  },
  {
   "cell_type": "code",
   "execution_count": null,
   "metadata": {},
   "outputs": [],
   "source": [
    "Columns = ['Population', ]\n",
    "All_states_Census = pd.DataFrame(all_states_data, columns = ['Po'])"
   ]
  },
  {
   "cell_type": "code",
   "execution_count": null,
   "metadata": {},
   "outputs": [],
   "source": []
  }
 ],
 "metadata": {
  "kernelspec": {
   "display_name": "Python 3",
   "language": "python",
   "name": "python3"
  },
  "language_info": {
   "codemirror_mode": {
    "name": "ipython",
    "version": 3
   },
   "file_extension": ".py",
   "mimetype": "text/x-python",
   "name": "python",
   "nbconvert_exporter": "python",
   "pygments_lexer": "ipython3",
   "version": "3.6.5"
  }
 },
 "nbformat": 4,
 "nbformat_minor": 2
}
