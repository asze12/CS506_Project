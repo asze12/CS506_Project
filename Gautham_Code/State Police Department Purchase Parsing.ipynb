{
 "cells": [
  {
   "cell_type": "code",
   "execution_count": 1,
   "metadata": {},
   "outputs": [],
   "source": [
    "import numpy as np\n",
    "import pandas as pd\n",
    "import os\n",
    "import pickle"
   ]
  },
  {
   "cell_type": "code",
   "execution_count": 2,
   "metadata": {},
   "outputs": [],
   "source": [
    "mypath = os.pardir"
   ]
  },
  {
   "cell_type": "code",
   "execution_count": 3,
   "metadata": {},
   "outputs": [],
   "source": [
    "files = [f for f in os.listdir(mypath) if '.pkl' in f]"
   ]
  },
  {
   "cell_type": "code",
   "execution_count": 9,
   "metadata": {},
   "outputs": [],
   "source": [
    "#pkl_df = pd.read_pickle(mypath+'/'+pkl_file)\n",
    "pkl_df_gb = tes_df.groupby('Station Name (LEA)')\n",
    "each_state_police_dept_purchase = []\n",
    "for police_dept, purchase_df in pkl_df_gb:\n",
    "    weapons_cost = 0\n",
    "    accessories_cost = 0\n",
    "    vehicles_cost = 0\n",
    "    for _ , row in purchase_df.iterrows():\n",
    "        if row['Item Name'] in weapons:\n",
    "            weapons_cost += row['Acquisition Value']\n",
    "        if row['Item Name'] in accessories:\n",
    "            accessories_cost += row['Acquisition Value'] \n",
    "        if row['Item Name'] in vehicles:\n",
    "            vehicles_cost += row['Acquisition Value']\n",
    "    \n",
    "    each_state_police_dept_purchase.append([police_dept, weapons_cost, accessories_cost, vehicles_cost])\n",
    "        "
   ]
  },
  {
   "cell_type": "code",
   "execution_count": 5,
   "metadata": {},
   "outputs": [],
   "source": [
    "weapons_labels = pd.read_excel('Weapon_List.xlsx')\n",
    "weapons = weapons_labels[weapons_labels['cat'] == 1]\n",
    "accessories = weapons_labels[weapons_labels['cat'] == 2]\n",
    "vehicles = weapons_labels[weapons_labels['cat'] == 3]\n",
    "del weapons_labels\n",
    "weapons = set(weapons['Item Name'])\n",
    "accessories = set(accessories['Item Name'])\n",
    "vehicles = set(vehicles['Item Name'])"
   ]
  },
  {
   "cell_type": "code",
   "execution_count": 12,
   "metadata": {},
   "outputs": [],
   "source": [
    "all_state_police_purchases = []\n",
    "for pkl_file in files:\n",
    "    pkl_df = pd.read_pickle(mypath+'/'+pkl_file)\n",
    "    pkl_df_gb = pkl_df.groupby('Station Name (LEA)')\n",
    "    each_state_police_dept_purchase = []\n",
    "    for police_dept, purchase_df in pkl_df_gb:\n",
    "        weapons_cost = 0\n",
    "        accessories_cost = 0\n",
    "        vehicles_cost = 0\n",
    "        for _ , row in purchase_df.iterrows():\n",
    "            if row['Item Name'] in weapons:\n",
    "                weapons_cost += row['Acquisition Value']\n",
    "            if row['Item Name'] in accessories:\n",
    "                accessories_cost += row['Acquisition Value'] \n",
    "            if row['Item Name'] in vehicles:\n",
    "                vehicles_cost += row['Acquisition Value']\n",
    "        each_state_police_dept_purchase.append([police_dept, weapons_cost, accessories_cost, vehicles_cost])\n",
    "    all_state_police_purchases.append(each_state_police_dept_purchase)\n",
    "        "
   ]
  },
  {
   "cell_type": "code",
   "execution_count": 15,
   "metadata": {},
   "outputs": [],
   "source": [
    "writer = pd.ExcelWriter('Per State Police Department Purchase Combined.xlsx')\n",
    "for data, state in zip(all_state_police_purchases, files):\n",
    "    state_name = state[:-4]\n",
    "    state_purchase_df = pd.DataFrame(data, columns = ['Police Department', 'Weapons Purchase Amount', 'Tactical Equipment Purchase Amount', 'Vehicle Purchase Amount'])\n",
    "    state_purchase_df.to_excel(writer,state_name, index = False)\n",
    "writer.save()"
   ]
  },
  {
   "cell_type": "code",
   "execution_count": null,
   "metadata": {},
   "outputs": [],
   "source": []
  },
  {
   "cell_type": "code",
   "execution_count": null,
   "metadata": {},
   "outputs": [],
   "source": []
  }
 ],
 "metadata": {
  "kernelspec": {
   "display_name": "Python 3",
   "language": "python",
   "name": "python3"
  },
  "language_info": {
   "codemirror_mode": {
    "name": "ipython",
    "version": 3
   },
   "file_extension": ".py",
   "mimetype": "text/x-python",
   "name": "python",
   "nbconvert_exporter": "python",
   "pygments_lexer": "ipython3",
   "version": "3.6.5"
  }
 },
 "nbformat": 4,
 "nbformat_minor": 2
}
